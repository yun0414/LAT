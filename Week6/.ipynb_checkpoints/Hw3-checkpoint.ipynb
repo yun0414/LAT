{
 "cells": [
  {
   "cell_type": "code",
   "execution_count": 1,
   "id": "cbc9b666",
   "metadata": {},
   "outputs": [],
   "source": [
    "import openai\n",
    "import pandas as pd"
   ]
  },
  {
   "cell_type": "code",
   "execution_count": 2,
   "id": "5876c134",
   "metadata": {},
   "outputs": [
    {
     "name": "stdout",
     "output_type": "stream",
     "text": [
      "Requirement already satisfied: pyLDAvis in c:\\users\\selin\\anaconda3\\lib\\site-packages (3.4.0)\n",
      "Requirement already satisfied: scipy in c:\\users\\selin\\anaconda3\\lib\\site-packages (from pyLDAvis) (1.9.1)\n",
      "Requirement already satisfied: gensim in c:\\users\\selin\\anaconda3\\lib\\site-packages (from pyLDAvis) (4.1.2)\n",
      "Requirement already satisfied: funcy in c:\\users\\selin\\anaconda3\\lib\\site-packages (from pyLDAvis) (2.0)\n",
      "Requirement already satisfied: pandas>=1.3.4 in c:\\users\\selin\\anaconda3\\lib\\site-packages (from pyLDAvis) (1.4.4)\n",
      "Requirement already satisfied: joblib>=1.2.0 in c:\\users\\selin\\anaconda3\\lib\\site-packages (from pyLDAvis) (1.2.0)\n",
      "Requirement already satisfied: scikit-learn>=1.0.0 in c:\\users\\selin\\anaconda3\\lib\\site-packages (from pyLDAvis) (1.0.2)\n",
      "Requirement already satisfied: numpy>=1.22.0 in c:\\users\\selin\\anaconda3\\lib\\site-packages (from pyLDAvis) (1.24.2)\n",
      "Requirement already satisfied: jinja2 in c:\\users\\selin\\anaconda3\\lib\\site-packages (from pyLDAvis) (2.11.3)\n",
      "Requirement already satisfied: numexpr in c:\\users\\selin\\anaconda3\\lib\\site-packages (from pyLDAvis) (2.8.3)\n",
      "Requirement already satisfied: setuptools in c:\\users\\selin\\anaconda3\\lib\\site-packages (from pyLDAvis) (63.4.1)\n",
      "Requirement already satisfied: pytz>=2020.1 in c:\\users\\selin\\anaconda3\\lib\\site-packages (from pandas>=1.3.4->pyLDAvis) (2022.1)\n",
      "Requirement already satisfied: python-dateutil>=2.8.1 in c:\\users\\selin\\anaconda3\\lib\\site-packages (from pandas>=1.3.4->pyLDAvis) (2.8.2)\n",
      "Requirement already satisfied: threadpoolctl>=2.0.0 in c:\\users\\selin\\anaconda3\\lib\\site-packages (from scikit-learn>=1.0.0->pyLDAvis) (2.2.0)\n",
      "Requirement already satisfied: smart-open>=1.8.1 in c:\\users\\selin\\anaconda3\\lib\\site-packages (from gensim->pyLDAvis) (5.2.1)\n",
      "Requirement already satisfied: MarkupSafe>=0.23 in c:\\users\\selin\\anaconda3\\lib\\site-packages (from jinja2->pyLDAvis) (2.0.1)\n",
      "Requirement already satisfied: packaging in c:\\users\\selin\\anaconda3\\lib\\site-packages (from numexpr->pyLDAvis) (21.3)\n",
      "Requirement already satisfied: six>=1.5 in c:\\users\\selin\\anaconda3\\lib\\site-packages (from python-dateutil>=2.8.1->pandas>=1.3.4->pyLDAvis) (1.16.0)\n",
      "Requirement already satisfied: pyparsing!=3.0.5,>=2.0.2 in c:\\users\\selin\\anaconda3\\lib\\site-packages (from packaging->numexpr->pyLDAvis) (3.0.9)\n"
     ]
    }
   ],
   "source": [
    "!pip install pyLDAvis"
   ]
  },
  {
   "cell_type": "code",
   "execution_count": 11,
   "id": "fc4936fd",
   "metadata": {},
   "outputs": [],
   "source": [
    "with open('01.txt', 'r',encoding=\"utf-8\") as fh1:\n",
    "    tmp1 = fh1.read()\n",
    "    itemlist1 = tmp1.split(',')\n",
    "with open('02.txt', 'r',encoding=\"utf-8\") as fh2:\n",
    "    tmp2 = fh2.read()\n",
    "    itemlist2 = tmp2.split(',')\n",
    "with open('03.txt', 'r',encoding=\"utf-8\") as fh3:\n",
    "    tmp3 = fh3.read()\n",
    "    itemlist3 = tmp3.split(',')"
   ]
  },
  {
   "cell_type": "code",
   "execution_count": 12,
   "id": "6459cff7",
   "metadata": {},
   "outputs": [],
   "source": [
    "itemlist1 = str(itemlist1)\n",
    "itemlist2 = str(itemlist2)\n",
    "itemlist3 = str(itemlist3)"
   ]
  },
  {
   "cell_type": "code",
   "execution_count": 13,
   "id": "440506a9",
   "metadata": {},
   "outputs": [],
   "source": [
    "keyfile = open(\"key.txt\", \"r\")\n",
    "key = keyfile.readline()\n",
    "openai.api_key = key"
   ]
  },
  {
   "cell_type": "code",
   "execution_count": 15,
   "id": "355419a2",
   "metadata": {},
   "outputs": [],
   "source": [
    "data1 = [itemlist1[0:3200], itemlist1[3201:6400], \n",
    "        itemlist1[6401:9600], itemlist1[9601:12800], itemlist1[12801:16000]]\n",
    "data2 = [itemlist2[0:3200], itemlist2[3201:6400], \n",
    "        itemlist2[6401:9600], itemlist2[9601:12800], itemlist2[12801:16000]]\n",
    "data3 = [itemlist3[0:3200], itemlist3[3201:6400], \n",
    "        itemlist3[6401:9600], itemlist3[9601:12800], itemlist3[12801:16000]]"
   ]
  },
  {
   "cell_type": "code",
   "execution_count": 16,
   "id": "261dc917",
   "metadata": {},
   "outputs": [],
   "source": [
    "def chatgptfn(sub_list):\n",
    "    result = ''\n",
    "    response = openai.ChatCompletion.create(\n",
    "        model=\"gpt-3.5-turbo\",\n",
    "        messages=[\n",
    "            {\"role\": \"system\", \"content\": \"You are an assistant\"},\n",
    "            {\"role\": \"user\", \"content\": f\"{sub_list} :give me a summary\"}\n",
    "        ]\n",
    "    )\n",
    "    for choice in response.choices:\n",
    "        result += choice.message.content\n",
    "    return result"
   ]
  },
  {
   "cell_type": "code",
   "execution_count": 17,
   "id": "169b5cbb",
   "metadata": {},
   "outputs": [],
   "source": [
    "data1[0] = chatgptfn(data1[0])\n",
    "data1[1] = chatgptfn(data1[1])\n",
    "data1[2] = chatgptfn(data1[2])\n",
    "data1[3] = chatgptfn(data1[3])"
   ]
  },
  {
   "cell_type": "code",
   "execution_count": 18,
   "id": "295737e4",
   "metadata": {},
   "outputs": [],
   "source": [
    "data2[0] = chatgptfn(data2[0])\n",
    "data2[1] = chatgptfn(data2[1])\n",
    "data2[2] = chatgptfn(data2[2])\n",
    "data2[3] = chatgptfn(data2[3])"
   ]
  },
  {
   "cell_type": "code",
   "execution_count": 19,
   "id": "161017fc",
   "metadata": {},
   "outputs": [],
   "source": [
    "data3[0] = chatgptfn(data3[0])\n",
    "data3[1] = chatgptfn(data3[1])\n",
    "data3[2] = chatgptfn(data3[2])\n",
    "data3[3] = chatgptfn(data3[3])"
   ]
  },
  {
   "cell_type": "code",
   "execution_count": 20,
   "id": "70c00c0d",
   "metadata": {},
   "outputs": [],
   "source": [
    "for i in range(0,5):\n",
    "    data1[i] = chatgptfn(data1[i])\n",
    "    data2[i] = chatgptfn(data2[i])\n",
    "    data3[i] = chatgptfn(data3[i])"
   ]
  },
  {
   "cell_type": "code",
   "execution_count": 21,
   "id": "a0f1034f",
   "metadata": {},
   "outputs": [],
   "source": [
    "import gensim\n",
    "from gensim import corpora\n",
    "from pprint import pprint"
   ]
  },
  {
   "cell_type": "code",
   "execution_count": 23,
   "id": "b2dc70fd",
   "metadata": {},
   "outputs": [],
   "source": [
    "# 創建詞袋\n",
    "texts = [[word for word in document.lower().split()] for document in data1]\n",
    "dictionary = corpora.Dictionary(texts)\n",
    "corpus = [dictionary.doc2bow(text) for text in texts]"
   ]
  },
  {
   "cell_type": "code",
   "execution_count": 24,
   "id": "b264cb7b",
   "metadata": {},
   "outputs": [],
   "source": [
    "# 創建詞袋\n",
    "texts = [[word for word in document.lower().split()] for document in data2]\n",
    "dictionary = corpora.Dictionary(texts)\n",
    "corpus = [dictionary.doc2bow(text) for text in texts]"
   ]
  },
  {
   "cell_type": "code",
   "execution_count": 25,
   "id": "fdc685af",
   "metadata": {},
   "outputs": [],
   "source": [
    "# 創建詞袋\n",
    "texts = [[word for word in document.lower().split()] for document in data3]\n",
    "dictionary = corpora.Dictionary(texts)\n",
    "corpus = [dictionary.doc2bow(text) for text in texts]"
   ]
  },
  {
   "cell_type": "code",
   "execution_count": 26,
   "id": "ece97081",
   "metadata": {},
   "outputs": [],
   "source": [
    "# 訓練 LDA 模型\n",
    "lda_model = gensim.models.ldamodel.LdaModel(corpus=corpus, id2word=dictionary, \n",
    "                                            num_topics=3, random_state=100, update_every=1, \n",
    "                                            chunksize=100, passes=10, alpha='auto', per_word_topics=True)"
   ]
  },
  {
   "cell_type": "code",
   "execution_count": 27,
   "id": "f8472913",
   "metadata": {},
   "outputs": [
    {
     "name": "stderr",
     "output_type": "stream",
     "text": [
      "C:\\Users\\selin\\anaconda3\\lib\\site-packages\\pyLDAvis\\_prepare.py:243: FutureWarning: In a future version of pandas all arguments of DataFrame.drop except for the argument 'labels' will be keyword-only.\n",
      "  default_term_info = default_term_info.sort_values(\n"
     ]
    },
    {
     "data": {
      "text/html": [
       "\n",
       "<link rel=\"stylesheet\" type=\"text/css\" href=\"https://cdn.jsdelivr.net/gh/bmabey/pyLDAvis@3.4.0/pyLDAvis/js/ldavis.v1.0.0.css\">\n",
       "\n",
       "\n",
       "<div id=\"ldavis_el926827376154401281945754161\" style=\"background-color:white;\"></div>\n",
       "<script type=\"text/javascript\">\n",
       "\n",
       "var ldavis_el926827376154401281945754161_data = {\"mdsDat\": {\"x\": [-0.0899852959680757, 0.08873833086316082, 0.0012469651049148425], \"y\": [0.0, 0.0, 0.0], \"topics\": [1, 2, 3], \"cluster\": [1, 1, 1], \"Freq\": [62.78445625263668, 37.11991862422628, 0.09562512313703762]}, \"tinfo\": {\"Term\": [\"you\", \"a\", \"please\", \"would\", \"me\", \"writing\", \"in\", \"the\", \"-\", \"career\", \"for?\", \"or\", \"which\", \"summary\", \"topic\", \"provide\", \"and\", \"like\", \"apps\", \"can\", \"digital\", \"to\", \"improve\", \"job\", \"distinct\", \"early\", \"skills.\", \"hirect,\", \"selecting\", \"students\", \"you\", \"me\", \"please\", \"a\", \"would\", \"provide\", \"career\", \"-\", \"for?\", \"or\", \"which\", \"summary\", \"topic\", \"the\", \"information\", \"sure,\", \"with\", \"summarize.\", \"issue\", \"specify\", \"certainly!\", \"offer\", \"internship\", \"education\", \"library\", \"emphasizes\", \"help\", \"grammar\", \"choose\", \"features,\", \"like\", \"and\", \"to\", \"digital\", \"apps\", \"can\", \"that\", \"their\", \"grammarly\", \"writing\", \"in\", \"students.\", \"offering\", \"content\", \"platform\", \"assist\", \"disciplines\", \"data\", \"an\", \"enhancing\", \"suggestions\", \"technical\", \"helps\", \"mistakes\", \"cyber\", \"is\", \"for\", \"simplilearn\", \"discusses\", \"security,\", \"training\", \"two\", \"different\", \"both\", \"identifying\", \"individuals\", \"while\", \"online\", \"offers\", \"skills\", \"and\", \"can\", \"apps\", \"like\", \"their\", \"article\", \"digital\", \"discusses\", \"offering\", \"online\", \"identifying\", \"mistakes\", \"individuals\", \"courses\", \"disciplines\", \"be\", \"technical\", \"cyber\", \"writers\", \"an\", \"beneficial\", \"offers\", \"suggestions\", \"platform\", \"science.\", \"enhancing\", \"data\", \"for\", \"two\", \"simplilearn\", \"both\", \"skills\", \"helps\", \"different\", \"marketing,\", \"while\", \"security,\", \"sure!\", \"clarify\", \"job\", \"distinct\", \"early\", \"subject\", \"the\", \"hirect,\", \"selecting\", \"students\", \"childhood\", \"national\", \"significance\", \"key\", \"and\", \"improve\", \"-\", \"career\", \"skills.\", \"services,\", \"four\", \"digital\", \"apps\", \"a\", \"can\", \"you\", \"writing\", \"for?\", \"grammarly\", \"in\", \"article\", \"that\", \"please\", \"like\", \"or\", \"which\", \"summary\", \"their\", \"topic\", \"would\"], \"Freq\": [4.0, 2.0, 2.0, 2.0, 2.0, 2.0, 2.0, 4.0, 1.0, 1.0, 1.0, 1.0, 1.0, 1.0, 1.0, 1.0, 6.0, 3.0, 3.0, 3.0, 2.0, 2.0, 1.0, 1.0, 1.0, 1.0, 1.0, 1.0, 1.0, 1.0, 3.953948919156205, 2.485188701623031, 2.4755101923754785, 2.4723307562527546, 2.474557421412683, 1.7396089784447333, 1.7342770683436097, 1.734129243808984, 1.7278531161143642, 1.7270442648871667, 1.7270487275146271, 1.7266465332147587, 1.7264388350950393, 3.966711289921705, 0.9940809473678516, 0.9940654211431456, 0.9940497089756287, 0.9940126133848641, 0.9940326022370305, 0.9939889986478863, 0.9939772842508027, 0.992447160860318, 0.9923945390448475, 0.9922350930845436, 0.9922257959440012, 0.9922302585714615, 0.9920568669003439, 0.9919419542432386, 0.9919678002939468, 0.9918579080927344, 2.4708314993688707, 3.9746655514842457, 1.741169968341819, 1.7368704127265346, 1.738137984868099, 1.7162091913561268, 0.9940546364601163, 0.9936036321723996, 0.9934494855822049, 2.0991251402458824, 2.0986867211930007, 0.8405926790489613, 0.8398543584975191, 0.8403155340057532, 0.8401991682666672, 0.8403945769593695, 0.8399316424980646, 0.8400891237651791, 0.840003649639398, 0.8400533400636463, 0.8400278902114041, 0.8398700241733054, 0.8400338266780178, 0.8397024838933176, 0.8398250609354346, 0.8400710395289206, 0.8399518154910947, 0.8399370292918438, 0.8394245693081409, 0.8399886435710132, 0.8400836820041165, 0.8398861295873593, 0.8399175159062152, 0.8398825017466509, 0.8395704524784453, 0.839611128268206, 0.8398611744406682, 0.8395147706202998, 0.8397492060842591, 0.8397982369011059, 2.726884277866421, 1.4893539362032449, 1.4702944704015632, 0.8515980086743008, 0.840177785993401, 0.840074667369629, 0.8399635784897552, 0.00147465258679893, 0.0014735689069955054, 0.001472806946846253, 0.0014727529964993166, 0.0014727017365896288, 0.0014721932439496054, 0.001472212077010347, 0.0014717701372917414, 0.0014716957962624983, 0.0014716346242155782, 0.001471611967901904, 0.0014714950046825614, 0.0014709581916504456, 0.0014707957742017943, 0.0014706036203414458, 0.001470498551686782, 0.0014703822964772417, 0.0014705209247965353, 0.0014703664370576699, 0.001470315743555824, 0.0014703061146225127, 0.0014703096546715242, 0.0014701911338306163, 0.001470138741105245, 0.0014701084382857058, 0.0014700370708976324, 0.0014700323980329371, 0.0014700450006074183, 0.001469806684507959, 0.001469713510417974, 0.0014849554038402714, 0.0014797106088266752, 0.001478172811536045, 0.0014769204837977085, 0.0014766083930768477, 0.00147626670754625, 0.0015478591011348736, 0.0014756387028515958, 0.0014756008951281522, 0.0014755279701185136, 0.0014754632580225818, 0.0014753707919423994, 0.001475070737388178, 0.001474991298688358, 0.0015494618937253565, 0.0014922637642236975, 0.0014927446444814305, 0.0014919917468576478, 0.0014883548421051112, 0.0014747572306477125, 0.0014745771129540033, 0.0014947803142650493, 0.0014979449764794411, 0.001493752425634047, 0.001494637437886942, 0.0014977250686348418, 0.0014879794553079233, 0.0014846563404997731, 0.0014834644767985545, 0.0014865171318622198, 0.0014820940530251916, 0.0014815035728500603, 0.0014833176355655542, 0.0014826583368376376, 0.0014805450691796848, 0.0014803883158094522, 0.0014799780949299904, 0.0014794308033528, 0.0014784731492941874, 0.0014767269139177555], \"Total\": [4.0, 2.0, 2.0, 2.0, 2.0, 2.0, 2.0, 4.0, 1.0, 1.0, 1.0, 1.0, 1.0, 1.0, 1.0, 1.0, 6.0, 3.0, 3.0, 3.0, 2.0, 2.0, 1.0, 1.0, 1.0, 1.0, 1.0, 1.0, 1.0, 1.0, 4.1799121285682315, 2.6973970177887177, 2.692678218174387, 2.6906985576957885, 2.693477026276892, 1.951782724456474, 1.94647987496621, 1.9463494721579173, 1.9465498015564417, 1.9470153368457541, 1.9470386613999218, 1.9470358064481408, 1.9472197156522746, 4.80653149413508, 1.2061946139327344, 1.206179547380019, 1.2061766601546224, 1.2061563488045957, 1.2061869339650964, 1.206183024838784, 1.2061803862739575, 1.2045840863202595, 1.2045326196674802, 1.2043641488262815, 1.2043743662427675, 1.204386389459123, 1.204218656972764, 1.204083798883663, 1.2041231944854969, 1.2039991957422902, 3.3239121663800093, 6.703099291244392, 2.582270201664964, 2.578328771530555, 3.2099304002461415, 3.2070577649972587, 1.8350327164824407, 1.8352608489691533, 1.83465956458976, 2.3527835998629496, 2.3531096401673643, 1.091341381438133, 1.0906981088348728, 1.0913118461942832, 1.0911752378169095, 1.0915155311883191, 1.090988474226503, 1.0912062805987865, 1.0911129885232065, 1.0912041335109655, 1.0911863464571916, 1.0910224809362554, 1.0912634094251934, 1.0908721150646317, 1.0910344632707452, 1.0913779087793278, 1.0912326156121683, 1.0912546938086332, 1.0905919676164202, 1.0913262144450295, 1.0914666452728017, 1.0912438206007682, 1.0912850403033256, 1.09127337533819, 1.0908871924302, 1.0909745844270697, 1.0913333681124244, 1.0908879749226428, 1.0912187799926991, 1.0912937195066312, 6.703099291244392, 3.2070577649972587, 3.2099304002461415, 3.3239121663800093, 1.8352608489691533, 1.8348287645919028, 2.578328771530555, 1.0905919676164202, 1.0906981088348728, 1.0908879749226428, 1.0908871924302, 1.0908721150646317, 1.0909745844270697, 1.0910198068766868, 1.090988474226503, 1.0910579896749684, 1.0910224809362554, 1.0910344632707452, 1.0910986506460993, 1.0911129885232065, 1.0912018837912099, 1.0912187799926991, 1.0911863464571916, 1.0911752378169095, 1.0912951858217754, 1.0912041335109655, 1.0912062805987865, 1.0912326156121683, 1.0912438206007682, 1.0912546938086332, 1.09127337533819, 1.0912937195066312, 1.0912634094251934, 1.0912850403033256, 1.0913213132223256, 1.0913333681124244, 1.0913262144450295, 1.1967223813133108, 1.1971208382757919, 1.2031919304927448, 1.2034092926073037, 1.2034602299398585, 1.1974671584950818, 4.80653149413508, 1.203623099962288, 1.203632041852321, 1.2036466057299924, 1.2036579477131908, 1.20366997451065, 1.2037233620229235, 1.2037331786896306, 6.703099291244392, 1.833161771367736, 1.9463494721579173, 1.94647987496621, 1.833831044921538, 1.2037766406192045, 1.2038047180950193, 2.578328771530555, 3.2099304002461415, 2.6906985576957885, 3.2070577649972587, 4.1799121285682315, 2.3527835998629496, 1.9465498015564417, 1.83465956458976, 2.3531096401673643, 1.8348287645919028, 1.8350327164824407, 2.692678218174387, 3.3239121663800093, 1.9470153368457541, 1.9470386613999218, 1.9470358064481408, 1.8352608489691533, 1.9472197156522746, 2.693477026276892], \"Category\": [\"Default\", \"Default\", \"Default\", \"Default\", \"Default\", \"Default\", \"Default\", \"Default\", \"Default\", \"Default\", \"Default\", \"Default\", \"Default\", \"Default\", \"Default\", \"Default\", \"Default\", \"Default\", \"Default\", \"Default\", \"Default\", \"Default\", \"Default\", \"Default\", \"Default\", \"Default\", \"Default\", \"Default\", \"Default\", \"Default\", \"Topic1\", \"Topic1\", \"Topic1\", \"Topic1\", \"Topic1\", \"Topic1\", \"Topic1\", \"Topic1\", \"Topic1\", \"Topic1\", \"Topic1\", \"Topic1\", \"Topic1\", \"Topic1\", \"Topic1\", \"Topic1\", \"Topic1\", \"Topic1\", \"Topic1\", \"Topic1\", \"Topic1\", \"Topic1\", \"Topic1\", \"Topic1\", \"Topic1\", \"Topic1\", \"Topic1\", \"Topic1\", \"Topic1\", \"Topic1\", \"Topic1\", \"Topic1\", \"Topic1\", \"Topic1\", \"Topic1\", \"Topic1\", \"Topic1\", \"Topic1\", \"Topic1\", \"Topic2\", \"Topic2\", \"Topic2\", \"Topic2\", \"Topic2\", \"Topic2\", \"Topic2\", \"Topic2\", \"Topic2\", \"Topic2\", \"Topic2\", \"Topic2\", \"Topic2\", \"Topic2\", \"Topic2\", \"Topic2\", \"Topic2\", \"Topic2\", \"Topic2\", \"Topic2\", \"Topic2\", \"Topic2\", \"Topic2\", \"Topic2\", \"Topic2\", \"Topic2\", \"Topic2\", \"Topic2\", \"Topic2\", \"Topic2\", \"Topic2\", \"Topic2\", \"Topic2\", \"Topic2\", \"Topic2\", \"Topic2\", \"Topic2\", \"Topic2\", \"Topic3\", \"Topic3\", \"Topic3\", \"Topic3\", \"Topic3\", \"Topic3\", \"Topic3\", \"Topic3\", \"Topic3\", \"Topic3\", \"Topic3\", \"Topic3\", \"Topic3\", \"Topic3\", \"Topic3\", \"Topic3\", \"Topic3\", \"Topic3\", \"Topic3\", \"Topic3\", \"Topic3\", \"Topic3\", \"Topic3\", \"Topic3\", \"Topic3\", \"Topic3\", \"Topic3\", \"Topic3\", \"Topic3\", \"Topic3\", \"Topic3\", \"Topic3\", \"Topic3\", \"Topic3\", \"Topic3\", \"Topic3\", \"Topic3\", \"Topic3\", \"Topic3\", \"Topic3\", \"Topic3\", \"Topic3\", \"Topic3\", \"Topic3\", \"Topic3\", \"Topic3\", \"Topic3\", \"Topic3\", \"Topic3\", \"Topic3\", \"Topic3\", \"Topic3\", \"Topic3\", \"Topic3\", \"Topic3\", \"Topic3\", \"Topic3\", \"Topic3\", \"Topic3\", \"Topic3\", \"Topic3\", \"Topic3\", \"Topic3\", \"Topic3\", \"Topic3\", \"Topic3\", \"Topic3\", \"Topic3\", \"Topic3\", \"Topic3\"], \"logprob\": [30.0, 29.0, 28.0, 27.0, 26.0, 25.0, 24.0, 23.0, 22.0, 21.0, 20.0, 19.0, 18.0, 17.0, 16.0, 15.0, 14.0, 13.0, 12.0, 11.0, 10.0, 9.0, 8.0, 7.0, 6.0, 5.0, 4.0, 3.0, 2.0, 1.0, -3.2287, -3.6931, -3.697, -3.6983, -3.6974, -4.0498, -4.0529, -4.0529, -4.0566, -4.057, -4.057, -4.0573, -4.0574, -3.2255, -4.6094, -4.6094, -4.6094, -4.6094, -4.6094, -4.6095, -4.6095, -4.611, -4.6111, -4.6112, -4.6112, -4.6112, -4.6114, -4.6115, -4.6115, -4.6116, -3.6989, -3.2235, -4.0489, -4.0514, -4.0506, -4.0633, -4.6094, -4.6099, -4.61, -3.3364, -3.3366, -4.2515, -4.2524, -4.2519, -4.252, -4.2518, -4.2523, -4.2521, -4.2522, -4.2522, -4.2522, -4.2524, -4.2522, -4.2526, -4.2524, -4.2522, -4.2523, -4.2523, -4.2529, -4.2523, -4.2521, -4.2524, -4.2523, -4.2524, -4.2528, -4.2527, -4.2524, -4.2528, -4.2525, -4.2525, -3.0747, -3.6795, -3.6924, -4.2385, -4.252, -4.2522, -4.2523, -4.6357, -4.6365, -4.637, -4.637, -4.6371, -4.6374, -4.6374, -4.6377, -4.6378, -4.6378, -4.6378, -4.6379, -4.6383, -4.6384, -4.6385, -4.6386, -4.6386, -4.6386, -4.6387, -4.6387, -4.6387, -4.6387, -4.6388, -4.6388, -4.6388, -4.6389, -4.6389, -4.6389, -4.639, -4.6391, -4.6288, -4.6323, -4.6334, -4.6342, -4.6344, -4.6347, -4.5873, -4.6351, -4.6351, -4.6352, -4.6352, -4.6353, -4.6355, -4.6355, -4.5863, -4.6239, -4.6236, -4.6241, -4.6265, -4.6357, -4.6358, -4.6222, -4.6201, -4.6229, -4.6223, -4.6202, -4.6268, -4.629, -4.6298, -4.6277, -4.6307, -4.6311, -4.6299, -4.6303, -4.6318, -4.6319, -4.6321, -4.6325, -4.6332, -4.6343], \"loglift\": [30.0, 29.0, 28.0, 27.0, 26.0, 25.0, 24.0, 23.0, 22.0, 21.0, 20.0, 19.0, 18.0, 17.0, 16.0, 15.0, 14.0, 13.0, 12.0, 11.0, 10.0, 9.0, 8.0, 7.0, 6.0, 5.0, 4.0, 3.0, 2.0, 1.0, 0.4099, 0.3835, 0.3814, 0.3808, 0.3807, 0.3504, 0.35, 0.35, 0.3463, 0.3456, 0.3456, 0.3453, 0.3451, 0.2734, 0.2721, 0.2721, 0.272, 0.272, 0.272, 0.272, 0.272, 0.2717, 0.2717, 0.2717, 0.2717, 0.2717, 0.2717, 0.2717, 0.2716, 0.2716, 0.1689, -0.0572, 0.0714, 0.0704, -0.148, -0.1598, -0.1476, -0.1481, -0.148, 0.8769, 0.8766, 0.73, 0.7297, 0.7297, 0.7296, 0.7296, 0.7295, 0.7295, 0.7295, 0.7294, 0.7294, 0.7294, 0.7294, 0.7293, 0.7293, 0.7293, 0.7293, 0.7293, 0.7293, 0.7293, 0.7292, 0.7292, 0.7292, 0.7292, 0.7292, 0.7291, 0.7291, 0.7291, 0.7291, 0.7291, 0.0916, 0.224, 0.2102, -0.3708, 0.2097, 0.2098, -0.1305, 0.3464, 0.3456, 0.3449, 0.3449, 0.3449, 0.3444, 0.3444, 0.3441, 0.344, 0.344, 0.344, 0.3438, 0.3435, 0.3433, 0.3431, 0.3431, 0.343, 0.343, 0.343, 0.3429, 0.3429, 0.3429, 0.3428, 0.3427, 0.3427, 0.3427, 0.3427, 0.3426, 0.3425, 0.3424, 0.2605, 0.2567, 0.2506, 0.2495, 0.2493, 0.254, -1.0884, 0.2485, 0.2485, 0.2484, 0.2483, 0.2483, 0.248, 0.248, -1.4199, -0.161, -0.2206, -0.2212, -0.164, 0.2478, 0.2476, -0.5004, -0.7174, -0.5438, -0.7187, -0.9816, -0.4134, -0.2261, -0.1677, -0.4146, -0.1688, -0.1693, -0.5515, -0.7626, -0.2292, -0.2293, -0.2295, -0.1708, -0.2307, -0.5563]}, \"token.table\": {\"Topic\": [1, 1, 2, 1, 2, 1, 2, 1, 2, 2, 2, 2, 2, 1, 2, 1, 1, 1, 1, 1, 2, 2, 2, 2, 2, 1, 2, 2, 2, 1, 1, 1, 1, 2, 1, 2, 1, 1, 1, 1, 2, 1, 2, 1, 2, 1, 2, 2, 2, 1, 1, 2, 1, 1, 1, 1, 1, 2, 2, 1, 2, 1, 1, 2, 2, 2, 1, 2, 1, 1, 2, 2, 1, 1, 1, 2, 2, 1, 2, 1, 1, 2, 1, 2, 1, 1, 1, 1, 2, 1, 2, 1, 2, 1, 2, 1, 2, 1, 2, 2, 1, 2, 1, 1, 2, 2, 1], \"Freq\": [1.027564694115595, 0.7433013981739833, 0.9164953680493478, 0.5967388854324166, 0.4475541640743124, 0.6230664689323598, 0.3115332344661799, 0.5450099863800735, 0.5450099863800735, 0.9161573714954955, 0.9165415674174248, 0.9164207053287489, 0.9163606687371951, 0.623624563869279, 0.3118122819346395, 1.027495853269338, 0.8290633900034848, 0.8308008117255263, 0.8304798085276353, 0.8353375599411467, 0.9163283652489307, 0.9165736439402934, 0.9165613311628685, 0.91641701278631, 0.9163508735738257, 0.7756962657686026, 0.3878481328843013, 0.9165999674826879, 0.9169332158071762, 0.8309724763994488, 0.8309373048829157, 0.8303136563592951, 0.8302983234882697, 0.9164188159574553, 0.8305653388609446, 0.9163948966453977, 1.0274589421759566, 0.8306995187578817, 0.8305069804336921, 0.5450602494875421, 0.5450602494875421, 0.8304139735833849, 0.9163690373589407, 0.830824865384631, 0.9166850678412238, 0.5455055934610138, 0.5455055934610138, 0.8499391468464472, 0.9166116372226532, 0.8290536107929982, 0.8301975253074152, 0.9162728986501741, 0.8290588894979168, 0.831122595370523, 0.8307488882948195, 0.8303066123199342, 0.6017006165894422, 0.3008503082947211, 0.9163204162551515, 0.7414555539323491, 0.9166977377002182, 0.8307925105521954, 0.8301620545683788, 0.9168439845084538, 0.9164065156637888, 0.9166844103042864, 1.027213274673061, 0.9164430838814471, 0.7427549220329724, 1.0247042229339094, 0.9163423544721059, 0.9163163009957829, 0.8308186931124375, 0.8307188944002228, 0.8307556632609048, 0.9163763562013728, 0.9163435857141149, 0.5453065061633231, 0.5453065061633231, 0.8290615764001968, 0.8308086403762307, 0.9163035664259643, 0.8350959714475603, 0.9164337541857531, 0.8290799123936841, 1.027202475360984, 0.8356156913373484, 0.8290639666143667, 0.916571397448983, 0.5449494120829038, 0.5449494120829038, 0.8322009342663814, 0.20805023356659536, 0.544881672031357, 0.544881672031357, 0.7745122871767892, 0.3872561435883946, 1.027105459093015, 0.9161984054492655, 0.9163854870210992, 1.0272009691692505, 0.9163102945616012, 0.829065951145007, 0.742534642207265, 0.9165074115047664, 0.8500569283620052, 0.9569579160914424], \"Term\": [\"-\", \"a\", \"an\", \"and\", \"and\", \"apps\", \"apps\", \"article\", \"article\", \"assist\", \"be\", \"beneficial\", \"both\", \"can\", \"can\", \"career\", \"certainly!\", \"childhood\", \"choose\", \"clarify\", \"content\", \"courses\", \"cyber\", \"data\", \"different\", \"digital\", \"digital\", \"disciplines\", \"discusses\", \"distinct\", \"early\", \"education\", \"emphasizes\", \"enhancing\", \"features,\", \"for\", \"for?\", \"four\", \"grammar\", \"grammarly\", \"grammarly\", \"help\", \"helps\", \"hirect,\", \"identifying\", \"improve\", \"improve\", \"in\", \"individuals\", \"information\", \"internship\", \"is\", \"issue\", \"job\", \"key\", \"library\", \"like\", \"like\", \"marketing,\", \"me\", \"mistakes\", \"national\", \"offer\", \"offering\", \"offers\", \"online\", \"or\", \"platform\", \"please\", \"provide\", \"science.\", \"security,\", \"selecting\", \"services,\", \"significance\", \"simplilearn\", \"skills\", \"skills.\", \"skills.\", \"specify\", \"students\", \"students.\", \"subject\", \"suggestions\", \"summarize.\", \"summary\", \"sure!\", \"sure,\", \"technical\", \"that\", \"that\", \"the\", \"the\", \"their\", \"their\", \"to\", \"to\", \"topic\", \"training\", \"two\", \"which\", \"while\", \"with\", \"would\", \"writers\", \"writing\", \"you\"]}, \"R\": 30, \"lambda.step\": 0.01, \"plot.opts\": {\"xlab\": \"PC1\", \"ylab\": \"PC2\"}, \"topic.order\": [1, 3, 2]};\n",
       "\n",
       "function LDAvis_load_lib(url, callback){\n",
       "  var s = document.createElement('script');\n",
       "  s.src = url;\n",
       "  s.async = true;\n",
       "  s.onreadystatechange = s.onload = callback;\n",
       "  s.onerror = function(){console.warn(\"failed to load library \" + url);};\n",
       "  document.getElementsByTagName(\"head\")[0].appendChild(s);\n",
       "}\n",
       "\n",
       "if(typeof(LDAvis) !== \"undefined\"){\n",
       "   // already loaded: just create the visualization\n",
       "   !function(LDAvis){\n",
       "       new LDAvis(\"#\" + \"ldavis_el926827376154401281945754161\", ldavis_el926827376154401281945754161_data);\n",
       "   }(LDAvis);\n",
       "}else if(typeof define === \"function\" && define.amd){\n",
       "   // require.js is available: use it to load d3/LDAvis\n",
       "   require.config({paths: {d3: \"https://d3js.org/d3.v5\"}});\n",
       "   require([\"d3\"], function(d3){\n",
       "      window.d3 = d3;\n",
       "      LDAvis_load_lib(\"https://cdn.jsdelivr.net/gh/bmabey/pyLDAvis@3.4.0/pyLDAvis/js/ldavis.v3.0.0.js\", function(){\n",
       "        new LDAvis(\"#\" + \"ldavis_el926827376154401281945754161\", ldavis_el926827376154401281945754161_data);\n",
       "      });\n",
       "    });\n",
       "}else{\n",
       "    // require.js not available: dynamically load d3 & LDAvis\n",
       "    LDAvis_load_lib(\"https://d3js.org/d3.v5.js\", function(){\n",
       "         LDAvis_load_lib(\"https://cdn.jsdelivr.net/gh/bmabey/pyLDAvis@3.4.0/pyLDAvis/js/ldavis.v3.0.0.js\", function(){\n",
       "                 new LDAvis(\"#\" + \"ldavis_el926827376154401281945754161\", ldavis_el926827376154401281945754161_data);\n",
       "            })\n",
       "         });\n",
       "}\n",
       "</script>"
      ],
      "text/plain": [
       "<IPython.core.display.HTML object>"
      ]
     },
     "execution_count": 27,
     "metadata": {},
     "output_type": "execute_result"
    }
   ],
   "source": [
    "# 輸出主題模型分析結果\n",
    "import pyLDAvis.gensim\n",
    "pyLDAvis.enable_notebook()\n",
    "vis = pyLDAvis.gensim.prepare(lda_model, corpus, dictionary)\n",
    "pyLDAvis.display(vis)"
   ]
  },
  {
   "cell_type": "code",
   "execution_count": null,
   "id": "27d0ccbf",
   "metadata": {},
   "outputs": [],
   "source": []
  }
 ],
 "metadata": {
  "kernelspec": {
   "display_name": "Python 3 (ipykernel)",
   "language": "python",
   "name": "python3"
  },
  "language_info": {
   "codemirror_mode": {
    "name": "ipython",
    "version": 3
   },
   "file_extension": ".py",
   "mimetype": "text/x-python",
   "name": "python",
   "nbconvert_exporter": "python",
   "pygments_lexer": "ipython3",
   "version": "3.9.13"
  }
 },
 "nbformat": 4,
 "nbformat_minor": 5
}
