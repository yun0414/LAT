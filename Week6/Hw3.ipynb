{
 "cells": [
  {
   "cell_type": "code",
   "execution_count": 1,
   "id": "48cd7de4",
   "metadata": {},
   "outputs": [],
   "source": [
    "import openai\n",
    "import pandas as pd"
   ]
  },
  {
   "cell_type": "code",
   "execution_count": 2,
   "id": "b3265392",
   "metadata": {},
   "outputs": [
    {
     "name": "stdout",
     "output_type": "stream",
     "text": [
      "Requirement already satisfied: pyLDAvis in c:\\users\\selin\\anaconda3\\lib\\site-packages (3.4.0)\n",
      "Requirement already satisfied: setuptools in c:\\users\\selin\\anaconda3\\lib\\site-packages (from pyLDAvis) (63.4.1)\n",
      "Requirement already satisfied: gensim in c:\\users\\selin\\anaconda3\\lib\\site-packages (from pyLDAvis) (4.1.2)\n",
      "Requirement already satisfied: jinja2 in c:\\users\\selin\\anaconda3\\lib\\site-packages (from pyLDAvis) (2.11.3)\n",
      "Requirement already satisfied: scikit-learn>=1.0.0 in c:\\users\\selin\\anaconda3\\lib\\site-packages (from pyLDAvis) (1.0.2)\n",
      "Requirement already satisfied: funcy in c:\\users\\selin\\anaconda3\\lib\\site-packages (from pyLDAvis) (2.0)\n",
      "Requirement already satisfied: joblib>=1.2.0 in c:\\users\\selin\\anaconda3\\lib\\site-packages (from pyLDAvis) (1.2.0)\n",
      "Requirement already satisfied: numexpr in c:\\users\\selin\\anaconda3\\lib\\site-packages (from pyLDAvis) (2.8.3)\n",
      "Requirement already satisfied: numpy>=1.22.0 in c:\\users\\selin\\anaconda3\\lib\\site-packages (from pyLDAvis) (1.24.2)\n",
      "Requirement already satisfied: scipy in c:\\users\\selin\\anaconda3\\lib\\site-packages (from pyLDAvis) (1.9.1)\n",
      "Requirement already satisfied: pandas>=1.3.4 in c:\\users\\selin\\anaconda3\\lib\\site-packages (from pyLDAvis) (1.4.4)\n",
      "Requirement already satisfied: python-dateutil>=2.8.1 in c:\\users\\selin\\anaconda3\\lib\\site-packages (from pandas>=1.3.4->pyLDAvis) (2.8.2)\n",
      "Requirement already satisfied: pytz>=2020.1 in c:\\users\\selin\\anaconda3\\lib\\site-packages (from pandas>=1.3.4->pyLDAvis) (2022.1)\n",
      "Requirement already satisfied: threadpoolctl>=2.0.0 in c:\\users\\selin\\anaconda3\\lib\\site-packages (from scikit-learn>=1.0.0->pyLDAvis) (2.2.0)\n",
      "Requirement already satisfied: smart-open>=1.8.1 in c:\\users\\selin\\anaconda3\\lib\\site-packages (from gensim->pyLDAvis) (5.2.1)\n",
      "Requirement already satisfied: MarkupSafe>=0.23 in c:\\users\\selin\\anaconda3\\lib\\site-packages (from jinja2->pyLDAvis) (2.0.1)\n",
      "Requirement already satisfied: packaging in c:\\users\\selin\\anaconda3\\lib\\site-packages (from numexpr->pyLDAvis) (21.3)\n",
      "Requirement already satisfied: six>=1.5 in c:\\users\\selin\\anaconda3\\lib\\site-packages (from python-dateutil>=2.8.1->pandas>=1.3.4->pyLDAvis) (1.16.0)\n",
      "Requirement already satisfied: pyparsing!=3.0.5,>=2.0.2 in c:\\users\\selin\\anaconda3\\lib\\site-packages (from packaging->numexpr->pyLDAvis) (3.0.9)\n"
     ]
    }
   ],
   "source": [
    "!pip install pyLDAvis"
   ]
  },
  {
   "cell_type": "code",
   "execution_count": 3,
   "id": "a7988d72",
   "metadata": {},
   "outputs": [],
   "source": [
    "with open('01.txt', 'r',encoding=\"utf-8\") as fh1:\n",
    "    tmp1 = fh1.read()\n",
    "    itemlist1 = tmp1.split(',')\n",
    "with open('02.txt', 'r',encoding=\"utf-8\") as fh2:\n",
    "    tmp2 = fh2.read()\n",
    "    itemlist2 = tmp2.split(',')\n",
    "with open('03.txt', 'r',encoding=\"utf-8\") as fh3:\n",
    "    tmp3 = fh3.read()\n",
    "    itemlist3 = tmp3.split(',')"
   ]
  },
  {
   "cell_type": "code",
   "execution_count": 4,
   "id": "28c6fbd5",
   "metadata": {},
   "outputs": [],
   "source": [
    "itemlist1 = str(itemlist1)\n",
    "itemlist2 = str(itemlist2)\n",
    "itemlist3 = str(itemlist3)"
   ]
  },
  {
   "cell_type": "code",
   "execution_count": 5,
   "id": "7c2f8fb2",
   "metadata": {},
   "outputs": [],
   "source": [
    "keyfile = open(\"key.txt\", \"r\")\n",
    "key = keyfile.readline()\n",
    "openai.api_key = key"
   ]
  },
  {
   "cell_type": "code",
   "execution_count": 6,
   "id": "cdf2a721",
   "metadata": {},
   "outputs": [],
   "source": [
    "data1 = [itemlist1[0:3200], itemlist1[3201:6400], \n",
    "        itemlist1[6401:9600], itemlist1[9601:12800], itemlist1[12801:16000]]\n",
    "data2 = [itemlist2[0:3200], itemlist2[3201:6400], \n",
    "        itemlist2[6401:9600], itemlist2[9601:12800], itemlist2[12801:16000]]\n",
    "data3 = [itemlist3[0:3200], itemlist3[3201:6400], \n",
    "        itemlist3[6401:9600], itemlist3[9601:12800], itemlist3[12801:16000]]"
   ]
  },
  {
   "cell_type": "code",
   "execution_count": 7,
   "id": "de421310",
   "metadata": {},
   "outputs": [],
   "source": [
    "def chatgptfn(sub_list):\n",
    "    result = ''\n",
    "    response = openai.ChatCompletion.create(\n",
    "        model=\"gpt-3.5-turbo\",\n",
    "        messages=[\n",
    "            {\"role\": \"system\", \"content\": \"You are an assistant\"},\n",
    "            {\"role\": \"user\", \"content\": f\"{sub_list} :give me a summary\"}\n",
    "        ]\n",
    "    )\n",
    "    for choice in response.choices:\n",
    "        result += choice.message.content\n",
    "    return result"
   ]
  },
  {
   "cell_type": "code",
   "execution_count": 8,
   "id": "fce613dd",
   "metadata": {},
   "outputs": [],
   "source": [
    "for i in range(0,5):\n",
    "    data1[i] = chatgptfn(data1[i])\n",
    "    data2[i] = chatgptfn(data2[i])\n",
    "    data3[i] = chatgptfn(data3[i])"
   ]
  },
  {
   "cell_type": "code",
   "execution_count": 9,
   "id": "1a673ee0",
   "metadata": {},
   "outputs": [],
   "source": [
    "paper = data1 + data2 + data3"
   ]
  },
  {
   "cell_type": "code",
   "execution_count": 10,
   "id": "97bcbe1a",
   "metadata": {
    "scrolled": true
   },
   "outputs": [
    {
     "name": "stdout",
     "output_type": "stream",
     "text": [
      "['This paper is a systematic literature review on the use of blockchain technology in education. The authors conducted a bibliometric analysis of data from the SCOPUS database to identify the benefits, barriers, and present applications of blockchain technology in education, and also suggest potential future areas where it can be implemented. The study finds that blockchain technology is still a young discipline in education, but has potential to benefit the sector at large. The paper provides a groundwork for education institutions, policymakers, and researchers to further explore the potential of blockchain technology in education.', \"Blockchain technology is a decentralized and reliable network that eliminates third-party intermediaries and allows for direct transactions and verification. The technology has evolved into four generations, each with its unique capabilities and uses. Features such as security, transparency, and immutability make it suitable for various sectors, including finance, government, education, health, tourism, energy, and public services. Studies have explored the potential of blockchain technology in education, such as the EduCTX platform, which is a globally trusted, decentralized higher education credit transfer and grading system. Blockchain technology has strong cybersecurity capabilities and is predicted to control 10% of the world's GDP by 2025.\", \"This paper is a systematic literature review on the current and potential use of blockchain technology in the education sector. The study explores the benefits and challenges of blockchain technology in facilitating teaching, learning, and student activities management, and presents a review of existing literature on the topic. The research aims to offer policy-makers, educators, and researchers a better understanding of blockchain technology's application in the education sector and potential future uses. The paper follows the Preferred Reporting Items for Systematic Reviews and Meta-Analyses (PRISMA) methodology to detail the stages involved in the study.\", 'The article describes the process of conducting a systematic literature review on the use of blockchain technology in education. The search was conducted using the SCOPUS database and resulted in 204 documents. Using inclusion criteria, 36 articles were selected for analysis. The content analysis revealed that the use of blockchain technology in education is a new area of research and lacks clear strategic vision due to its immaturity and limited public knowledge.', 'The systematic review examined the uses and applications of blockchain technology in education. The review found that there are issues with scalability, smart contract security and user adoption, but blockchain technology has potential in managing student data and credentials, administration activities, and teaching and learning. The area of research is multidisciplinary and has been applied in various fields, although the number of publications is limited. Most of the studies were qualitative or review-based, suggesting a need for more quantitative studies. Overall, blockchain technology in education is an emerging area of study with potential for significant contributions in the future.', 'The field of Artificial Intelligence (AI) focuses on creating intelligent machines that can perform tasks requiring human-level intelligence. AI systems can be divided into two categories - narrow AI designed for specific tasks, and general AI that can perform any intellectual task that a human can do. The history of AI dates back to the 1950s and has evolved over time, with the development of machine learning algorithms and artificial neural networks. Today, AI is used in a wide range of applications, but it also raises ethical and societal concerns. Data Science helps organizations uncover actionable insights hidden in their data by combining specialized programming, advanced analytics, AI, and machine learning with subject matter expertise. AI and machine learning innovations have made data processing more efficient, creating job positions in the field of data science.', 'The passage discusses the high demand for data science expertise and the strong projected growth of the field in the coming decades. It highlights the importance of data science in industries such as healthcare and finance, and emphasizes the need for individuals to develop data science skills to remain competitive. Overall, the passage emphasizes the growing importance of data science in several industries and encourages individuals to consider learning data science to stay relevant in the job market.', \"I'm sorry, could you please provide more context? A summary about what exactly?\", 'Sure, I can give you a summary of something. Could you please tell me what you would like me to provide a summary of?', 'Of what topic or subject would you like me to provide a summary? Please provide more details to help me give you an accurate and relevant summary.', 'The article discusses the best mobile applications that can help students choose their career paths, sharpen their skills, and receive education on the go. The apps include Hirect, which provides job opportunities and internships; Key Education Foundation, which delivers quality education to underprivileged children; National Digital Library, which offers access to books in different languages and academic levels, and Grammarly, which corrects grammar mistakes. The apps are designed to make the process of choosing a career easier and more efficient for students.', 'The article discusses three apps that can be helpful for students and professionals. The first app is called Grammarly which helps in identifying mistakes in written content and provides suggestions for improvement. The second app is called Unacademy which provides online learning and coaching on various topics such as exam preparation, languages, and professional courses. The third app is Simplilearn which offers training in disciplines such as Cyber Security, Cloud Computing, Project Management, and more, with the help of qualified trainers, courses, and global accreditations. Overall, these apps are useful for those who want to improve their skills and knowledge.', \"I'm sorry, I need more information before I can give you a summary. Can you please clarify what you need a summary of?\", 'Of what topic or subject would you like me to provide a summary? Please provide more details so I can assist you better.', 'Of what topic or subject would you like a summary? Please provide more details so I can assist you better.']\n"
     ]
    }
   ],
   "source": [
    "print(paper)"
   ]
  },
  {
   "cell_type": "code",
   "execution_count": 11,
   "id": "44a70e61",
   "metadata": {},
   "outputs": [],
   "source": [
    "import gensim\n",
    "from gensim import corpora\n",
    "from pprint import pprint"
   ]
  },
  {
   "cell_type": "code",
   "execution_count": 12,
   "id": "f0bc4a7f",
   "metadata": {},
   "outputs": [],
   "source": [
    "# 創建詞袋\n",
    "texts = [[word for word in document.lower().split()] for document in paper]\n",
    "dictionary = corpora.Dictionary(texts)\n",
    "corpus = [dictionary.doc2bow(text) for text in texts]"
   ]
  },
  {
   "cell_type": "code",
   "execution_count": 13,
   "id": "1fd08a2e",
   "metadata": {},
   "outputs": [],
   "source": [
    "# 訓練 LDA 模型\n",
    "lda_model = gensim.models.ldamodel.LdaModel(corpus=corpus, id2word=dictionary, \n",
    "                                            num_topics=3, random_state=100, update_every=1, \n",
    "                                            chunksize=100, passes=10, alpha='auto', per_word_topics=True)"
   ]
  },
  {
   "cell_type": "code",
   "execution_count": 14,
   "id": "65e06aef",
   "metadata": {},
   "outputs": [
    {
     "name": "stderr",
     "output_type": "stream",
     "text": [
      "C:\\Users\\selin\\anaconda3\\lib\\site-packages\\pyLDAvis\\_prepare.py:243: FutureWarning: In a future version of pandas all arguments of DataFrame.drop except for the argument 'labels' will be keyword-only.\n",
      "  default_term_info = default_term_info.sort_values(\n"
     ]
    },
    {
     "data": {
      "text/html": [
       "\n",
       "<link rel=\"stylesheet\" type=\"text/css\" href=\"https://cdn.jsdelivr.net/gh/bmabey/pyLDAvis@3.4.0/pyLDAvis/js/ldavis.v1.0.0.css\">\n",
       "\n",
       "\n",
       "<div id=\"ldavis_el1030419095287993769469001622\" style=\"background-color:white;\"></div>\n",
       "<script type=\"text/javascript\">\n",
       "\n",
       "var ldavis_el1030419095287993769469001622_data = {\"mdsDat\": {\"x\": [-0.05489287297234185, -0.06721129993022769, 0.12210417290256953], \"y\": [0.06377731768917802, -0.05962743908829956, -0.004149878600878527], \"topics\": [1, 2, 3], \"cluster\": [1, 1, 1], \"Freq\": [51.31883155606105, 27.19108130339314, 21.490087140545814]}, \"tinfo\": {\"Term\": [\"you\", \"provide\", \"what\", \"please\", \"more\", \"i\", \"me\", \"can\", \"a\", \"blockchain\", \"technology\", \"summary\", \"data\", \"would\", \"like\", \"the\", \"give\", \"topic\", \"details\", \"summary?\", \"or\", \"subject\", \"and\", \"to\", \"which\", \"education\", \"is\", \"in\", \"sorry,\", \"i'm\", \"data\", \"science\", \"ai\", \"learning\", \"app\", \"overall,\", \"be\", \"machine\", \"field\", \"but\", \"called\", \"emphasizes\", \"skills\", \"individuals\", \"importance\", \"passage\", \"helps\", \"also\", \"industries\", \"creating\", \"artificial\", \"perform\", \"with\", \"provides\", \"computing,\", \"courses,\", \"improve\", \"cloud\", \"professionals.\", \"written\", \"in\", \"education.\", \"it\", \"that\", \"for\", \"is\", \"the\", \"of\", \"and\", \"potential\", \"has\", \"to\", \"can\", \"technology\", \"blockchain\", \"a\", \"such\", \"as\", \"which\", \"on\", \"review\", \"public\", \"capabilities\", \"using\", \"its\", \"decentralized\", \"uses.\", \"due\", \"36\", \"documents.\", \"204\", \"articles\", \"resulted\", \"limited\", \"immaturity\", \"analysis.\", \"inclusion\", \"describes\", \"new\", \"revealed\", \"selected\", \"vision\", \"conducting\", \"was\", \"clear\", \"direct\", \"strategic\", \"lacks\", \"health,\", \"system.\", \"search\", \"use\", \"literature\", \"blockchain\", \"technology\", \"the\", \"and\", \"systematic\", \"research\", \"education\", \"of\", \"review\", \"a\", \"in\", \"is\", \"on\", \"potential\", \"education,\", \"paper\", \"for\", \"to\", \"as\", \"such\", \"has\", \"that\", \"you\", \"provide\", \"what\", \"please\", \"i\", \"me\", \"summary\", \"would\", \"like\", \"give\", \"topic\", \"details\", \"summary?\", \"sorry,\", \"i'm\", \"could\", \"career\", \"summary.\", \"of?\", \"assist\", \"better.\", \"so\", \"more\", \"about\", \"context?\", \"exactly?\", \"internships;\", \"access\", \"choose\", \"sharpen\", \"or\", \"subject\", \"can\", \"a\", \"which\", \"help\", \"to\", \"education\", \"and\", \"of\", \"the\", \"their\", \"apps\", \"need\"], \"Freq\": [8.0, 4.0, 4.0, 4.0, 5.0, 3.0, 3.0, 8.0, 15.0, 11.0, 11.0, 3.0, 9.0, 3.0, 3.0, 45.0, 2.0, 2.0, 2.0, 2.0, 3.0, 3.0, 35.0, 14.0, 6.0, 6.0, 10.0, 21.0, 1.0, 1.0, 8.747609605307739, 4.89053711505385, 4.887058799165755, 4.119240712919826, 2.575229673769617, 2.574432549894165, 2.574349845052225, 2.5736684137049566, 2.573455643128683, 2.572498057722287, 1.8030869018571052, 1.8027527837207198, 1.8025536794716044, 1.8023945138854773, 1.8021712579375047, 1.8017375876765618, 1.8013561086477834, 1.8013387901125053, 1.8012811794747434, 1.801056509768789, 1.8010578057136057, 1.8005122129457636, 4.115497081783797, 2.5780461152958614, 1.0305483955228305, 1.0305198847368624, 1.0305069252886951, 1.030488782061261, 1.0304786501290575, 1.0304801817002045, 14.958685742194344, 2.5758067226525565, 2.575266195850816, 4.899348126049613, 7.219398960989398, 7.21670669453923, 27.393185778181333, 14.226764384866438, 20.386322238387862, 4.131325987401634, 3.3460918165768727, 7.2803936641071525, 4.937270770155677, 5.682886729801434, 5.678616709443483, 5.750667471232233, 2.5797277804153125, 2.5771062018642383, 2.58962243690419, 2.5862433197011563, 2.583163212311291, 1.506765200085667, 1.5064673182800588, 1.506733614127235, 1.5065494667411192, 1.506179049592234, 1.504356427429587, 0.862038047357753, 0.8619260607778575, 0.8618364839985097, 0.8617811149369895, 0.8617748102298716, 0.8617594542105548, 0.861743099425754, 0.8616788663205631, 0.8615680657746799, 0.8615442826715918, 0.8614864791192042, 0.8614691255689194, 0.8614241186992958, 0.8614141934672984, 0.8613688744834611, 0.861365878187009, 0.8612447154492292, 0.8612547031040694, 0.8611069482352774, 0.8611383469251813, 0.861110319068786, 0.8609236747689603, 0.8608979565577468, 0.8610497689113175, 2.1513338612158357, 2.146784734127506, 5.3787036968859345, 5.372893878065403, 14.411072310861389, 11.848483777649953, 2.1495026247008893, 1.5049343381077769, 2.80208250862405, 6.674104527187918, 2.1496644247093, 4.726143288889712, 5.3799431648516, 3.444437031521837, 2.1531281434078737, 2.147292356684758, 1.5049736644987102, 1.504291757364497, 2.797630012096299, 2.8038093741459167, 1.507553475743928, 1.5056045097475528, 1.5082894410599634, 1.5089372653220345, 7.825994054921675, 4.299412129842101, 3.7234748016882704, 3.720534040275687, 3.130550836782838, 3.1162515768206975, 2.5535739212500324, 2.5357247111435512, 2.53531621724179, 1.9604551817160787, 1.9529039647349677, 1.9494313718898975, 1.9489891328397297, 1.3803883156935244, 1.3800629019524593, 1.378110518176094, 1.3771628912600271, 1.376150043457713, 1.3722089653359368, 1.365878296558881, 1.3647100434678532, 1.3633237296225036, 3.7286916832278667, 0.7901346083282891, 0.7901197584895898, 0.7901110261924145, 0.787860412266756, 0.7877998782066761, 0.7877605088668687, 0.7877055003281652, 1.9525665132509038, 1.9520151451535506, 3.7168197058703956, 5.490107125940436, 2.5577346388465236, 1.3729706979256948, 4.299605917770376, 1.971903272647954, 3.755441916251714, 3.13762251744449, 3.7442720747891545, 1.378263950064316, 1.378008296030629, 1.3773056667855945], \"Total\": [8.0, 4.0, 4.0, 4.0, 5.0, 3.0, 3.0, 8.0, 15.0, 11.0, 11.0, 3.0, 9.0, 3.0, 3.0, 45.0, 2.0, 2.0, 2.0, 2.0, 3.0, 3.0, 35.0, 14.0, 6.0, 6.0, 10.0, 21.0, 1.0, 1.0, 9.174749496506838, 5.309880405870412, 5.309171403781073, 4.536814872332275, 2.9906275111686913, 2.990413635150241, 2.990450765604298, 2.99035257395668, 2.990306664406962, 2.9900666236981075, 2.2175047181699883, 2.217462198334004, 2.217420307265812, 2.2174118748151974, 2.217373644239462, 2.217300910257921, 2.217193549490439, 2.217185445079314, 2.217224962497662, 2.2171262137747103, 2.217140731432788, 2.2170446098538834, 5.1831917469366235, 3.584033351852829, 1.4443111933045192, 1.4443021884352012, 1.4443036603541226, 1.4442994323608158, 1.444295596958368, 1.4442990454592064, 21.13675603404028, 3.637916393346284, 3.6378716889085614, 7.1987345597382975, 10.813027935654876, 10.867098593398477, 45.54853016383187, 24.038491429498848, 35.99024793228953, 6.480621254931816, 5.057820360025037, 14.383808956023444, 8.876922327771611, 11.264429919234221, 11.263925916142663, 15.96691788606238, 4.285882839915238, 4.285434862005248, 6.011993598783667, 5.527446680019297, 4.933794167262841, 1.9661934817294935, 1.9660524353573263, 1.9664259262552601, 1.966235017005689, 1.9660164004093215, 1.9666450266949975, 1.3186429563731994, 1.3186528142273897, 1.3186733221058322, 1.3186508737089013, 1.3186689234643296, 1.3186754039413184, 1.3186740981667293, 1.318696040318601, 1.3187056630929925, 1.3187082676587814, 1.3187139704579756, 1.3187234807717771, 1.318718740903703, 1.3187278456389389, 1.318723060759875, 1.3187553770166895, 1.3187243738855938, 1.3187699030320315, 1.3186125724178583, 1.3188098855311863, 1.3187683162846502, 1.3185705998282293, 1.3185497590799709, 1.3187965649674855, 3.387533571061069, 3.3884377994825723, 11.263925916142663, 11.264429919234221, 45.54853016383187, 35.99024793228953, 4.1609030005879655, 2.7396024732592554, 6.58698819254822, 24.038491429498848, 4.933794167262841, 15.96691788606238, 21.13675603404028, 10.867098593398477, 5.527446680019297, 6.480621254931816, 3.5124999634021825, 3.5133310871138597, 10.813027935654876, 14.383808956023444, 4.285434862005248, 4.285882839915238, 5.057820360025037, 7.1987345597382975, 8.39898614048303, 4.834021159435347, 4.236246395256359, 4.237139613247384, 3.6436678131389066, 3.648029841805347, 3.046215322414139, 3.0516580739267987, 3.051785913424298, 2.4536936756147765, 2.4559920569864744, 2.4570509398808076, 2.457180974144716, 1.8571878883775503, 1.8572829951508085, 1.8578831666039073, 1.8578080969403548, 1.8584784114802702, 1.859679556478803, 1.8616042644396926, 1.8619636781158397, 1.8623860269619494, 5.780937696593148, 1.263784965763001, 1.2637889697459976, 1.2637891823480276, 1.2643270386838452, 1.2643279849388134, 1.2643537392114554, 1.2643791321652684, 3.229299484714324, 3.22935764992783, 8.876922327771611, 15.96691788606238, 6.011993598783667, 2.6324328738866347, 14.383808956023444, 6.58698819254822, 35.99024793228953, 24.038491429498848, 45.54853016383187, 3.4038688912308883, 3.404100462926083, 3.404373900394863], \"Category\": [\"Default\", \"Default\", \"Default\", \"Default\", \"Default\", \"Default\", \"Default\", \"Default\", \"Default\", \"Default\", \"Default\", \"Default\", \"Default\", \"Default\", \"Default\", \"Default\", \"Default\", \"Default\", \"Default\", \"Default\", \"Default\", \"Default\", \"Default\", \"Default\", \"Default\", \"Default\", \"Default\", \"Default\", \"Default\", \"Default\", \"Topic1\", \"Topic1\", \"Topic1\", \"Topic1\", \"Topic1\", \"Topic1\", \"Topic1\", \"Topic1\", \"Topic1\", \"Topic1\", \"Topic1\", \"Topic1\", \"Topic1\", \"Topic1\", \"Topic1\", \"Topic1\", \"Topic1\", \"Topic1\", \"Topic1\", \"Topic1\", \"Topic1\", \"Topic1\", \"Topic1\", \"Topic1\", \"Topic1\", \"Topic1\", \"Topic1\", \"Topic1\", \"Topic1\", \"Topic1\", \"Topic1\", \"Topic1\", \"Topic1\", \"Topic1\", \"Topic1\", \"Topic1\", \"Topic1\", \"Topic1\", \"Topic1\", \"Topic1\", \"Topic1\", \"Topic1\", \"Topic1\", \"Topic1\", \"Topic1\", \"Topic1\", \"Topic1\", \"Topic1\", \"Topic1\", \"Topic1\", \"Topic1\", \"Topic2\", \"Topic2\", \"Topic2\", \"Topic2\", \"Topic2\", \"Topic2\", \"Topic2\", \"Topic2\", \"Topic2\", \"Topic2\", \"Topic2\", \"Topic2\", \"Topic2\", \"Topic2\", \"Topic2\", \"Topic2\", \"Topic2\", \"Topic2\", \"Topic2\", \"Topic2\", \"Topic2\", \"Topic2\", \"Topic2\", \"Topic2\", \"Topic2\", \"Topic2\", \"Topic2\", \"Topic2\", \"Topic2\", \"Topic2\", \"Topic2\", \"Topic2\", \"Topic2\", \"Topic2\", \"Topic2\", \"Topic2\", \"Topic2\", \"Topic2\", \"Topic2\", \"Topic2\", \"Topic2\", \"Topic2\", \"Topic2\", \"Topic2\", \"Topic2\", \"Topic2\", \"Topic2\", \"Topic2\", \"Topic2\", \"Topic2\", \"Topic2\", \"Topic2\", \"Topic2\", \"Topic2\", \"Topic3\", \"Topic3\", \"Topic3\", \"Topic3\", \"Topic3\", \"Topic3\", \"Topic3\", \"Topic3\", \"Topic3\", \"Topic3\", \"Topic3\", \"Topic3\", \"Topic3\", \"Topic3\", \"Topic3\", \"Topic3\", \"Topic3\", \"Topic3\", \"Topic3\", \"Topic3\", \"Topic3\", \"Topic3\", \"Topic3\", \"Topic3\", \"Topic3\", \"Topic3\", \"Topic3\", \"Topic3\", \"Topic3\", \"Topic3\", \"Topic3\", \"Topic3\", \"Topic3\", \"Topic3\", \"Topic3\", \"Topic3\", \"Topic3\", \"Topic3\", \"Topic3\", \"Topic3\", \"Topic3\", \"Topic3\", \"Topic3\", \"Topic3\"], \"logprob\": [30.0, 29.0, 28.0, 27.0, 26.0, 25.0, 24.0, 23.0, 22.0, 21.0, 20.0, 19.0, 18.0, 17.0, 16.0, 15.0, 14.0, 13.0, 12.0, 11.0, 10.0, 9.0, 8.0, 7.0, 6.0, 5.0, 4.0, 3.0, 2.0, 1.0, -4.0578, -4.6392, -4.64, -4.8109, -5.2806, -5.2809, -5.2809, -5.2812, -5.2813, -5.2817, -5.637, -5.6372, -5.6373, -5.6374, -5.6376, -5.6378, -5.638, -5.638, -5.638, -5.6382, -5.6382, -5.6385, -4.8118, -5.2795, -6.1965, -6.1965, -6.1965, -6.1965, -6.1965, -6.1965, -3.5213, -5.2804, -5.2806, -4.6374, -4.2498, -4.2501, -2.9162, -3.5714, -3.2117, -4.8079, -5.0188, -4.2414, -4.6297, -4.4891, -4.4898, -4.4772, -5.2789, -5.2799, -5.275, -5.2763, -5.2775, -5.1814, -5.1816, -5.1814, -5.1816, -5.1818, -5.183, -5.7398, -5.74, -5.7401, -5.7401, -5.7401, -5.7402, -5.7402, -5.7402, -5.7404, -5.7404, -5.7405, -5.7405, -5.7405, -5.7406, -5.7406, -5.7406, -5.7408, -5.7407, -5.7409, -5.7409, -5.7409, -5.7411, -5.7412, -5.741, -4.8253, -4.8274, -3.9089, -3.91, -2.9234, -3.1192, -4.8261, -5.1826, -4.561, -3.6931, -4.8261, -4.0383, -3.9087, -4.3546, -4.8245, -4.8272, -5.1826, -5.1831, -4.5626, -4.5604, -5.1809, -5.1822, -5.1804, -5.18, -3.2986, -3.8976, -4.0414, -4.0422, -4.2149, -4.2194, -4.4186, -4.4256, -4.4258, -4.6829, -4.6868, -4.6885, -4.6888, -5.0337, -5.0339, -5.0354, -5.0361, -5.0368, -5.0397, -5.0443, -5.0451, -5.0462, -4.04, -5.5916, -5.5916, -5.5917, -5.5945, -5.5946, -5.5946, -5.5947, -4.6869, -4.6872, -4.0432, -3.6531, -4.417, -5.0391, -3.8976, -4.6771, -4.0329, -4.2126, -4.0359, -5.0353, -5.0354, -5.0359], \"loglift\": [30.0, 29.0, 28.0, 27.0, 26.0, 25.0, 24.0, 23.0, 22.0, 21.0, 20.0, 19.0, 18.0, 17.0, 16.0, 15.0, 14.0, 13.0, 12.0, 11.0, 10.0, 9.0, 8.0, 7.0, 6.0, 5.0, 4.0, 3.0, 2.0, 1.0, 0.6194, 0.5848, 0.5843, 0.5706, 0.5176, 0.5173, 0.5173, 0.5171, 0.517, 0.5167, 0.4602, 0.4601, 0.46, 0.4599, 0.4598, 0.4596, 0.4594, 0.4594, 0.4594, 0.4593, 0.4593, 0.459, 0.4365, 0.3377, 0.3296, 0.3295, 0.3295, 0.3295, 0.3295, 0.3295, 0.3214, 0.3219, 0.3217, 0.2823, 0.2631, 0.2578, 0.1586, 0.1426, 0.0987, 0.2169, 0.254, -0.0138, 0.0805, -0.0171, -0.0178, -0.3541, 0.1595, 0.1586, -0.1751, -0.0924, 0.02, 1.0361, 1.036, 1.036, 1.036, 1.0358, 1.0343, 0.8772, 0.8771, 0.877, 0.8769, 0.8769, 0.8769, 0.8769, 0.8768, 0.8766, 0.8766, 0.8765, 0.8765, 0.8765, 0.8764, 0.8764, 0.8764, 0.8762, 0.8762, 0.8762, 0.8761, 0.8761, 0.876, 0.876, 0.876, 0.8483, 0.8459, 0.5631, 0.562, 0.1515, 0.1912, 0.6418, 0.7032, 0.4475, 0.0209, 0.4715, 0.0849, -0.0661, 0.1533, 0.3595, 0.1977, 0.4547, 0.454, -0.0497, -0.3328, 0.2575, 0.2561, 0.0923, -0.2602, 1.4669, 1.4204, 1.4086, 1.4076, 1.3858, 1.38, 1.3612, 1.3524, 1.3522, 1.3132, 1.3084, 1.3062, 1.3059, 1.2409, 1.2406, 1.2389, 1.2382, 1.2371, 1.2336, 1.2279, 1.2269, 1.2256, 1.0991, 1.0679, 1.0679, 1.0679, 1.0646, 1.0645, 1.0645, 1.0644, 1.0345, 1.0342, 0.667, 0.47, 0.6829, 0.8866, 0.33, 0.3315, -0.7225, -0.4986, -0.961, 0.6335, 0.6332, 0.6326]}, \"token.table\": {\"Topic\": [2, 2, 1, 2, 3, 3, 3, 1, 1, 2, 1, 2, 3, 1, 1, 3, 2, 1, 1, 2, 3, 1, 3, 1, 2, 1, 1, 1, 3, 2, 3, 3, 2, 1, 1, 2, 3, 3, 1, 1, 1, 2, 2, 3, 2, 2, 2, 1, 2, 3, 1, 2, 1, 2, 1, 3, 1, 1, 2, 3, 3, 1, 2, 2, 1, 3, 1, 3, 3, 2, 1, 1, 1, 2, 3, 2, 1, 1, 3, 1, 2, 1, 2, 2, 2, 1, 3, 2, 1, 2, 1, 3, 1, 3, 1, 3, 2, 1, 2, 3, 3, 1, 2, 3, 1, 3, 1, 1, 2, 1, 1, 3, 1, 2, 1, 3, 1, 3, 2, 1, 2, 2, 2, 1, 2, 1, 2, 2, 3, 1, 3, 3, 2, 1, 3, 1, 2, 3, 3, 3, 2, 1, 2, 1, 2, 1, 2, 3, 1, 2, 3, 1, 3, 1, 2, 3, 3, 1, 2, 2, 2, 2, 2, 3, 1, 2, 3, 1, 2, 3, 1, 3], \"Freq\": [0.758350841710931, 0.7583497257281545, 0.37577696853050374, 0.3131474737754198, 0.3131474737754198, 0.7912738536150075, 0.7909340075616491, 0.9417665431632349, 0.902044528768975, 0.7583193338644835, 0.5557060912063491, 0.3334236547238094, 0.11114121824126981, 1.0031339539264943, 0.5875267260123246, 0.2937633630061623, 0.7583404615108837, 0.9020627205326455, 0.7000456421816279, 0.46669709478775195, 0.5371710943630551, 1.0031932424721839, 0.5370674045650133, 0.5326739579671085, 0.44389496497259034, 1.003322125407897, 0.9019146537151517, 0.5632582797708402, 0.45060662381667216, 1.0172668663521702, 0.5382687273496716, 0.7909178966194018, 0.7582823946018664, 0.6923772021189712, 0.6923715641308885, 0.7582907470392399, 0.7912713466718931, 0.5382469780529507, 0.6923758808974935, 0.9020686272050125, 0.9809532133195167, 1.0172855117503614, 0.7583145567591966, 0.8139839380363114, 0.7583728692699796, 0.7583379319474421, 0.7583553949663553, 0.3036289031552502, 0.4554433547328753, 0.3036289031552502, 0.5693950237262961, 0.5693950237262961, 0.8246478686225369, 0.274882622874179, 0.9019319479279578, 0.7912712135595854, 1.0032415857906536, 0.6473672353067915, 0.2774431008457678, 0.09248103361525592, 0.815097670861012, 0.5931408761985271, 0.395427250799018, 0.7583970097090519, 0.3798767330099316, 0.3798767330099316, 0.9020412315648515, 0.8233461868236537, 0.5384209097972178, 0.7583248674640722, 0.9019679679136715, 0.6923751752833017, 0.7096642444016874, 0.2365547481338958, 0.047310949626779154, 0.7583178361165415, 0.9019524170116944, 0.9020284517034474, 0.7909345995170619, 0.6441461757098942, 0.27606264673281183, 0.8246580024102125, 0.27488600080340414, 1.0171724044695991, 0.7582833069703159, 0.8816758260060299, 0.983030948142037, 0.7583374856533831, 0.2951212503156186, 0.5902425006312372, 1.003226183469916, 0.8223616938712738, 0.3459646349723939, 0.6919292699447878, 0.5874795361837388, 0.2937397680918694, 0.7583090879785915, 0.5823992758056311, 0.29119963790281556, 0.12479984481549239, 0.5377270490048527, 0.5427460767454253, 0.3618307178302836, 0.1809153589151418, 0.3096646826141193, 0.6193293652282386, 1.0032056986154283, 0.5692603260010332, 0.5692603260010332, 0.9019975551118842, 0.9021018301169015, 0.9440330895621261, 0.6172247756271763, 0.30861238781358813, 0.6923790407628205, 0.8274684508139871, 0.837045782079315, 0.279015260693105, 1.0171938919463663, 0.3650164612423926, 0.7300329224847852, 0.7583367347348358, 0.7583118135673961, 0.6080513086471813, 0.4053675390981208, 0.941640793730906, 0.7582670645071438, 0.7583065780456683, 0.79090201234774, 0.901948987048873, 0.5369456093005959, 0.538448482384626, 0.7582594056740961, 0.3096591051233821, 0.6193182102467641, 0.699972470563225, 0.46664831370881665, 0.9848286094308287, 0.5380745850060772, 0.813940861924568, 0.7584089967888344, 0.4806648940668373, 0.4806648940668373, 0.5326501245975076, 0.44387510383125633, 0.6945665183940009, 0.27782660735760034, 0.13891330367880017, 0.5927743420673438, 0.3073644736645486, 0.0878184210470139, 0.5875666965764862, 0.2937833482882431, 0.48665829902229346, 0.2085678424381258, 0.2780904565841677, 0.8143348812186384, 0.2952000265156848, 0.5904000530313696, 1.016960342538814, 1.0170736529133728, 0.7583093294992352, 0.7583085744093141, 0.9442321401510305, 0.4990025273158896, 0.1663341757719632, 0.4990025273158896, 0.771725260282737, 0.19293131507068426, 0.9830721290933075, 0.6923773875943093, 0.9524959163154323], \"Term\": [\"204\", \"36\", \"a\", \"a\", \"a\", \"about\", \"access\", \"ai\", \"also\", \"analysis.\", \"and\", \"and\", \"and\", \"app\", \"apps\", \"apps\", \"articles\", \"artificial\", \"as\", \"as\", \"assist\", \"be\", \"better.\", \"blockchain\", \"blockchain\", \"but\", \"called\", \"can\", \"can\", \"capabilities\", \"career\", \"choose\", \"clear\", \"cloud\", \"computing,\", \"conducting\", \"context?\", \"could\", \"courses,\", \"creating\", \"data\", \"decentralized\", \"describes\", \"details\", \"direct\", \"documents.\", \"due\", \"education\", \"education\", \"education\", \"education,\", \"education,\", \"education.\", \"education.\", \"emphasizes\", \"exactly?\", \"field\", \"for\", \"for\", \"for\", \"give\", \"has\", \"has\", \"health,\", \"help\", \"help\", \"helps\", \"i\", \"i'm\", \"immaturity\", \"importance\", \"improve\", \"in\", \"in\", \"in\", \"inclusion\", \"individuals\", \"industries\", \"internships;\", \"is\", \"is\", \"it\", \"it\", \"its\", \"lacks\", \"learning\", \"like\", \"limited\", \"literature\", \"literature\", \"machine\", \"me\", \"more\", \"more\", \"need\", \"need\", \"new\", \"of\", \"of\", \"of\", \"of?\", \"on\", \"on\", \"on\", \"or\", \"or\", \"overall,\", \"paper\", \"paper\", \"passage\", \"perform\", \"please\", \"potential\", \"potential\", \"professionals.\", \"provide\", \"provides\", \"provides\", \"public\", \"research\", \"research\", \"resulted\", \"revealed\", \"review\", \"review\", \"science\", \"search\", \"selected\", \"sharpen\", \"skills\", \"so\", \"sorry,\", \"strategic\", \"subject\", \"subject\", \"such\", \"such\", \"summary\", \"summary.\", \"summary?\", \"system.\", \"systematic\", \"systematic\", \"technology\", \"technology\", \"that\", \"that\", \"that\", \"the\", \"the\", \"the\", \"their\", \"their\", \"to\", \"to\", \"to\", \"topic\", \"use\", \"use\", \"uses.\", \"using\", \"vision\", \"was\", \"what\", \"which\", \"which\", \"which\", \"with\", \"with\", \"would\", \"written\", \"you\"]}, \"R\": 30, \"lambda.step\": 0.01, \"plot.opts\": {\"xlab\": \"PC1\", \"ylab\": \"PC2\"}, \"topic.order\": [2, 1, 3]};\n",
       "\n",
       "function LDAvis_load_lib(url, callback){\n",
       "  var s = document.createElement('script');\n",
       "  s.src = url;\n",
       "  s.async = true;\n",
       "  s.onreadystatechange = s.onload = callback;\n",
       "  s.onerror = function(){console.warn(\"failed to load library \" + url);};\n",
       "  document.getElementsByTagName(\"head\")[0].appendChild(s);\n",
       "}\n",
       "\n",
       "if(typeof(LDAvis) !== \"undefined\"){\n",
       "   // already loaded: just create the visualization\n",
       "   !function(LDAvis){\n",
       "       new LDAvis(\"#\" + \"ldavis_el1030419095287993769469001622\", ldavis_el1030419095287993769469001622_data);\n",
       "   }(LDAvis);\n",
       "}else if(typeof define === \"function\" && define.amd){\n",
       "   // require.js is available: use it to load d3/LDAvis\n",
       "   require.config({paths: {d3: \"https://d3js.org/d3.v5\"}});\n",
       "   require([\"d3\"], function(d3){\n",
       "      window.d3 = d3;\n",
       "      LDAvis_load_lib(\"https://cdn.jsdelivr.net/gh/bmabey/pyLDAvis@3.4.0/pyLDAvis/js/ldavis.v3.0.0.js\", function(){\n",
       "        new LDAvis(\"#\" + \"ldavis_el1030419095287993769469001622\", ldavis_el1030419095287993769469001622_data);\n",
       "      });\n",
       "    });\n",
       "}else{\n",
       "    // require.js not available: dynamically load d3 & LDAvis\n",
       "    LDAvis_load_lib(\"https://d3js.org/d3.v5.js\", function(){\n",
       "         LDAvis_load_lib(\"https://cdn.jsdelivr.net/gh/bmabey/pyLDAvis@3.4.0/pyLDAvis/js/ldavis.v3.0.0.js\", function(){\n",
       "                 new LDAvis(\"#\" + \"ldavis_el1030419095287993769469001622\", ldavis_el1030419095287993769469001622_data);\n",
       "            })\n",
       "         });\n",
       "}\n",
       "</script>"
      ],
      "text/plain": [
       "<IPython.core.display.HTML object>"
      ]
     },
     "execution_count": 14,
     "metadata": {},
     "output_type": "execute_result"
    }
   ],
   "source": [
    "# 輸出主題模型分析結果\n",
    "import pyLDAvis.gensim\n",
    "pyLDAvis.enable_notebook()\n",
    "vis = pyLDAvis.gensim.prepare(lda_model, corpus, dictionary)\n",
    "pyLDAvis.display(vis)"
   ]
  },
  {
   "cell_type": "code",
   "execution_count": null,
   "id": "938aea1a",
   "metadata": {},
   "outputs": [],
   "source": []
  }
 ],
 "metadata": {
  "kernelspec": {
   "display_name": "Python 3 (ipykernel)",
   "language": "python",
   "name": "python3"
  },
  "language_info": {
   "codemirror_mode": {
    "name": "ipython",
    "version": 3
   },
   "file_extension": ".py",
   "mimetype": "text/x-python",
   "name": "python",
   "nbconvert_exporter": "python",
   "pygments_lexer": "ipython3",
   "version": "3.9.13"
  }
 },
 "nbformat": 4,
 "nbformat_minor": 5
}
