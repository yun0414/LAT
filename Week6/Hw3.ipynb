{
 "cells": [
  {
   "cell_type": "code",
   "execution_count": 1,
   "id": "48cd7de4",
   "metadata": {},
   "outputs": [],
   "source": [
    "import openai\n",
    "import pandas as pd"
   ]
  },
  {
   "cell_type": "code",
   "execution_count": 2,
   "id": "b3265392",
   "metadata": {},
   "outputs": [
    {
     "name": "stdout",
     "output_type": "stream",
     "text": [
      "Requirement already satisfied: pyLDAvis in c:\\users\\selin\\anaconda3\\lib\\site-packages (3.4.0)\n",
      "Requirement already satisfied: scipy in c:\\users\\selin\\anaconda3\\lib\\site-packages (from pyLDAvis) (1.9.1)\n",
      "Requirement already satisfied: gensim in c:\\users\\selin\\anaconda3\\lib\\site-packages (from pyLDAvis) (4.1.2)\n",
      "Requirement already satisfied: funcy in c:\\users\\selin\\anaconda3\\lib\\site-packages (from pyLDAvis) (2.0)\n",
      "Requirement already satisfied: pandas>=1.3.4 in c:\\users\\selin\\anaconda3\\lib\\site-packages (from pyLDAvis) (1.4.4)\n",
      "Requirement already satisfied: joblib>=1.2.0 in c:\\users\\selin\\anaconda3\\lib\\site-packages (from pyLDAvis) (1.2.0)\n",
      "Requirement already satisfied: scikit-learn>=1.0.0 in c:\\users\\selin\\anaconda3\\lib\\site-packages (from pyLDAvis) (1.0.2)\n",
      "Requirement already satisfied: numpy>=1.22.0 in c:\\users\\selin\\anaconda3\\lib\\site-packages (from pyLDAvis) (1.24.2)\n",
      "Requirement already satisfied: jinja2 in c:\\users\\selin\\anaconda3\\lib\\site-packages (from pyLDAvis) (2.11.3)\n",
      "Requirement already satisfied: numexpr in c:\\users\\selin\\anaconda3\\lib\\site-packages (from pyLDAvis) (2.8.3)\n",
      "Requirement already satisfied: setuptools in c:\\users\\selin\\anaconda3\\lib\\site-packages (from pyLDAvis) (63.4.1)\n",
      "Requirement already satisfied: pytz>=2020.1 in c:\\users\\selin\\anaconda3\\lib\\site-packages (from pandas>=1.3.4->pyLDAvis) (2022.1)\n",
      "Requirement already satisfied: python-dateutil>=2.8.1 in c:\\users\\selin\\anaconda3\\lib\\site-packages (from pandas>=1.3.4->pyLDAvis) (2.8.2)\n",
      "Requirement already satisfied: threadpoolctl>=2.0.0 in c:\\users\\selin\\anaconda3\\lib\\site-packages (from scikit-learn>=1.0.0->pyLDAvis) (2.2.0)\n",
      "Requirement already satisfied: smart-open>=1.8.1 in c:\\users\\selin\\anaconda3\\lib\\site-packages (from gensim->pyLDAvis) (5.2.1)\n",
      "Requirement already satisfied: MarkupSafe>=0.23 in c:\\users\\selin\\anaconda3\\lib\\site-packages (from jinja2->pyLDAvis) (2.0.1)\n",
      "Requirement already satisfied: packaging in c:\\users\\selin\\anaconda3\\lib\\site-packages (from numexpr->pyLDAvis) (21.3)\n",
      "Requirement already satisfied: six>=1.5 in c:\\users\\selin\\anaconda3\\lib\\site-packages (from python-dateutil>=2.8.1->pandas>=1.3.4->pyLDAvis) (1.16.0)\n",
      "Requirement already satisfied: pyparsing!=3.0.5,>=2.0.2 in c:\\users\\selin\\anaconda3\\lib\\site-packages (from packaging->numexpr->pyLDAvis) (3.0.9)\n"
     ]
    }
   ],
   "source": [
    "!pip install pyLDAvis"
   ]
  },
  {
   "cell_type": "code",
   "execution_count": 11,
   "id": "a7988d72",
   "metadata": {},
   "outputs": [],
   "source": [
    "with open('01.txt', 'r',encoding=\"utf-8\") as fh1:\n",
    "    tmp1 = fh1.read()\n",
    "    itemlist1 = tmp1.split(',')\n",
    "with open('02.txt', 'r',encoding=\"utf-8\") as fh2:\n",
    "    tmp2 = fh2.read()\n",
    "    itemlist2 = tmp2.split(',')\n",
    "with open('03.txt', 'r',encoding=\"utf-8\") as fh3:\n",
    "    tmp3 = fh3.read()\n",
    "    itemlist3 = tmp3.split(',')"
   ]
  },
  {
   "cell_type": "code",
   "execution_count": 12,
   "id": "28c6fbd5",
   "metadata": {},
   "outputs": [],
   "source": [
    "itemlist1 = str(itemlist1)\n",
    "itemlist2 = str(itemlist2)\n",
    "itemlist3 = str(itemlist3)"
   ]
  },
  {
   "cell_type": "code",
   "execution_count": 13,
   "id": "7c2f8fb2",
   "metadata": {},
   "outputs": [],
   "source": [
    "keyfile = open(\"key.txt\", \"r\")\n",
    "key = keyfile.readline()\n",
    "openai.api_key = key"
   ]
  },
  {
   "cell_type": "code",
   "execution_count": 15,
   "id": "cdf2a721",
   "metadata": {},
   "outputs": [],
   "source": [
    "data1 = [itemlist1[0:3200], itemlist1[3201:6400], \n",
    "        itemlist1[6401:9600], itemlist1[9601:12800], itemlist1[12801:16000]]\n",
    "data2 = [itemlist2[0:3200], itemlist2[3201:6400], \n",
    "        itemlist2[6401:9600], itemlist2[9601:12800], itemlist2[12801:16000]]\n",
    "data3 = [itemlist3[0:3200], itemlist3[3201:6400], \n",
    "        itemlist3[6401:9600], itemlist3[9601:12800], itemlist3[12801:16000]]"
   ]
  },
  {
   "cell_type": "code",
   "execution_count": 16,
   "id": "de421310",
   "metadata": {},
   "outputs": [],
   "source": [
    "def chatgptfn(sub_list):\n",
    "    result = ''\n",
    "    response = openai.ChatCompletion.create(\n",
    "        model=\"gpt-3.5-turbo\",\n",
    "        messages=[\n",
    "            {\"role\": \"system\", \"content\": \"You are an assistant\"},\n",
    "            {\"role\": \"user\", \"content\": f\"{sub_list} :give me a summary\"}\n",
    "        ]\n",
    "    )\n",
    "    for choice in response.choices:\n",
    "        result += choice.message.content\n",
    "    return result"
   ]
  },
  {
   "cell_type": "code",
   "execution_count": 17,
   "id": "91cf8503",
   "metadata": {},
   "outputs": [],
   "source": [
    "data1[0] = chatgptfn(data1[0])\n",
    "data1[1] = chatgptfn(data1[1])\n",
    "data1[2] = chatgptfn(data1[2])\n",
    "data1[3] = chatgptfn(data1[3])"
   ]
  },
  {
   "cell_type": "code",
   "execution_count": 18,
   "id": "e1a6d7ac",
   "metadata": {},
   "outputs": [],
   "source": [
    "data2[0] = chatgptfn(data2[0])\n",
    "data2[1] = chatgptfn(data2[1])\n",
    "data2[2] = chatgptfn(data2[2])\n",
    "data2[3] = chatgptfn(data2[3])"
   ]
  },
  {
   "cell_type": "code",
   "execution_count": 19,
   "id": "6c5ce6e1",
   "metadata": {},
   "outputs": [],
   "source": [
    "data3[0] = chatgptfn(data3[0])\n",
    "data3[1] = chatgptfn(data3[1])\n",
    "data3[2] = chatgptfn(data3[2])\n",
    "data3[3] = chatgptfn(data3[3])"
   ]
  },
  {
   "cell_type": "code",
   "execution_count": 20,
   "id": "fce613dd",
   "metadata": {},
   "outputs": [],
   "source": [
    "for i in range(0,5):\n",
    "    data1[i] = chatgptfn(data1[i])\n",
    "    data2[i] = chatgptfn(data2[i])\n",
    "    data3[i] = chatgptfn(data3[i])"
   ]
  },
  {
   "cell_type": "code",
   "execution_count": 44,
   "id": "1a673ee0",
   "metadata": {},
   "outputs": [],
   "source": [
    "paper = [data1, data2, data3]\n",
    "paper_str = str(paper)"
   ]
  },
  {
   "cell_type": "code",
   "execution_count": 45,
   "id": "97bcbe1a",
   "metadata": {},
   "outputs": [
    {
     "name": "stdout",
     "output_type": "stream",
     "text": [
      "[['This paper reviews the current and potential applications of blockchain technology in education. It identifies the benefits, barriers, and current use cases of blockchain in education and suggests potential areas for implementation. The research findings can be useful for education institutions, policymakers, and researchers as blockchain technology is still in its early stages in the education sector but has the potential to benefit it significantly in the future.', \"Blockchain technology eliminates intermediaries and allows for direct verification and transactions, with four generations of development. It offers benefits such as security, decentralization, transparency, and immutability, and has been used in various sectors. By 2025, it is estimated to control 10% of the world's GDP. In education, blockchain has potential for a globally trusted decentralized credit transfer system. Overall, blockchain has strong cybersecurity capabilities to enhance and secure various sectors.\", 'The paper is a systematic literature review of the use of blockchain technology in education. The study aims to explore the benefits, challenges, and future applications of blockchain technology in educational settings. The research follows a systematic approach and answers three research questions related to how blockchain technology has been defined in education, the methodology of studies, and results of its use in education. The paper provides insights for policymakers, higher education institutions, academicians, managers, and researchers to use the potential benefits of blockchain technology in the education sector.', 'The article discusses a systematic literature review on the use of blockchain technology in education. 36 articles were chosen for this study, which provides an overview of the current state of literature on blockchain, its potential applications in various fields, and its recent introduction in the fourth industrial revolution. While its current applications are immature and lack public knowledge, the potential of blockchain technology cannot be ignored in the education sector.', 'The article discusses the potential of blockchain technology in the field of education. It highlights the issues with scalability, security of smart contracts, and user adoption, and how blockchain technology can bring significant changes to the education system. The article presents a detailed review of existing studies and their contributions, and presents graphs on the year-wise and area-wise study on the topic. The article also suggests that there is a need for further research in this area, especially in the subjects of social sciences, business, and management education. It concludes by stating that most of the studies so far have been qualitative or review-based, and there is a need for more quantitative studies in this area.'], ['The article covers the history and current applications of artificial intelligence, including neural networks and machine learning. Data science is introduced as a tool to gain insights from data, but ethical and societal concerns regarding AI are acknowledged. The article advocates for developing transparent, accountable, and ethical AI systems to benefit society.', 'The article discusses the rising demand for data science skills in the current business scenario and predicts a potential increase in job opportunities in the field in the future. Job seekers are advised to hone their data science skills to prepare for these future career prospects in the industry.', 'I apologize but I need more information about what you want me to summarize. Can you please give me the context or topic?', 'Certainly! However, I still need more information from you to provide an accurate summary. What is the topic or subject matter you would like me to summarize?', 'Sure! I am an AI language model designed to assist you with various tasks such as answering questions, providing suggestions, and summarizing information. Can you please provide me with more specific details on what you need me to summarize?'], ['The article emphasizes the significance of selecting a career and recommends four apps - Hirect, Key Education Foundation, National Digital Library, and Grammarly - that help students choose the right career and improve their skills. The apps offer distinct features, including job and internship opportunities, early childhood education, digital library services, and grammar correction.', 'The article discusses two apps that can be beneficial for content writers and students. Grammarly helps in identifying writing mistakes and offers suggestions to improve writing skills while Simplilearn is an online training platform offering courses in different disciplines like Cyber Security, Digital Marketing, and Data Science. Both apps can assist individuals in enhancing their writing and technical skills.', 'Sure, please provide me with the information you would like me to summarize.', 'Certainly! Can you please specify which topic or issue you would like me to provide a summary for?', 'Sure! Can you please clarify which subject or topic you would like a summary for?']]\n"
     ]
    }
   ],
   "source": [
    "print(paper_str)"
   ]
  },
  {
   "cell_type": "code",
   "execution_count": 36,
   "id": "44a70e61",
   "metadata": {},
   "outputs": [],
   "source": [
    "import gensim\n",
    "from gensim import corpora\n",
    "from pprint import pprint"
   ]
  },
  {
   "cell_type": "code",
   "execution_count": 37,
   "id": "fbc22c98",
   "metadata": {},
   "outputs": [],
   "source": [
    "# 創建詞袋\n",
    "texts = [[word for word in document.lower().split()] for document in data1]\n",
    "dictionary = corpora.Dictionary(texts)\n",
    "corpus = [dictionary.doc2bow(text) for text in texts]"
   ]
  },
  {
   "cell_type": "code",
   "execution_count": 38,
   "id": "6fb04869",
   "metadata": {},
   "outputs": [],
   "source": [
    "# 創建詞袋\n",
    "texts = [[word for word in document.lower().split()] for document in data2]\n",
    "dictionary = corpora.Dictionary(texts)\n",
    "corpus = [dictionary.doc2bow(text) for text in texts]"
   ]
  },
  {
   "cell_type": "code",
   "execution_count": 39,
   "id": "9d0e7dd4",
   "metadata": {},
   "outputs": [],
   "source": [
    "# 創建詞袋\n",
    "texts = [[word for word in document.lower().split()] for document in data3]\n",
    "dictionary = corpora.Dictionary(texts)\n",
    "corpus = [dictionary.doc2bow(text) for text in texts]"
   ]
  },
  {
   "cell_type": "code",
   "execution_count": 41,
   "id": "f0bc4a7f",
   "metadata": {},
   "outputs": [],
   "source": [
    "# 創建詞袋\n",
    "texts = [[word for word in document.lower().split()] for document in paper_str]\n",
    "dictionary = corpora.Dictionary(texts)\n",
    "corpus = [dictionary.doc2bow(text) for text in texts]"
   ]
  },
  {
   "cell_type": "code",
   "execution_count": 42,
   "id": "1fd08a2e",
   "metadata": {},
   "outputs": [],
   "source": [
    "# 訓練 LDA 模型\n",
    "lda_model = gensim.models.ldamodel.LdaModel(corpus=corpus, id2word=dictionary, \n",
    "                                            num_topics=3, random_state=100, update_every=1, \n",
    "                                            chunksize=100, passes=10, alpha='auto', per_word_topics=True)"
   ]
  },
  {
   "cell_type": "code",
   "execution_count": 43,
   "id": "65e06aef",
   "metadata": {},
   "outputs": [
    {
     "name": "stderr",
     "output_type": "stream",
     "text": [
      "C:\\Users\\selin\\anaconda3\\lib\\site-packages\\pyLDAvis\\_prepare.py:243: FutureWarning: In a future version of pandas all arguments of DataFrame.drop except for the argument 'labels' will be keyword-only.\n",
      "  default_term_info = default_term_info.sort_values(\n"
     ]
    },
    {
     "data": {
      "text/html": [
       "\n",
       "<link rel=\"stylesheet\" type=\"text/css\" href=\"https://cdn.jsdelivr.net/gh/bmabey/pyLDAvis@3.4.0/pyLDAvis/js/ldavis.v1.0.0.css\">\n",
       "\n",
       "\n",
       "<div id=\"ldavis_el926827376781578566201192410\" style=\"background-color:white;\"></div>\n",
       "<script type=\"text/javascript\">\n",
       "\n",
       "var ldavis_el926827376781578566201192410_data = {\"mdsDat\": {\"x\": [-0.38322971126544475, 0.25278307802476674, 0.130446633240678], \"y\": [-0.06995959265022603, -0.2937521020749748, 0.36371169472520093], \"topics\": [1, 2, 3], \"cluster\": [1, 1, 1], \"Freq\": [51.309728126662854, 25.405585907109113, 23.28468596622803]}, \"tinfo\": {\"Term\": [\"e\", \"i\", \"o\", \"a\", \"s\", \"t\", \"r\", \"d\", \"h\", \"n\", \"m\", \"y\", \"p\", \"f\", \"c\", \"l\", \"u\", \"g\", \"w\", \",\", \"v\", \".\", \"'\", \"]\", \"k\", \"?\", \"b\", \"j\", \"!\", \"z\", \"a\", \"s\", \"t\", \"r\", \"n\", \"c\", \"l\", \"u\", \"'\", \"k\", \"b\", \"0\", \"2\", \"%\", \"1\", \"5\", \"6\", \"3\", \"\\\"\", \"x\", \"[\", \"q\", \"-\", \"!\", \"z\", \"?\", \"j\", \"]\", \"v\", \".\", \"w\", \"y\", \"m\", \"p\", \"f\", \"i\", \"o\", \"e\", \"o\", \"h\", \"y\", \"f\", \".\", \"\\\"\", \"2\", \"0\", \"5\", \"1\", \"%\", \"6\", \"3\", \"x\", \"[\", \"q\", \"-\", \"!\", \"z\", \"j\", \"?\", \"]\", \"v\", \"b\", \",\", \"k\", \"'\", \"w\", \"g\", \"u\", \"l\", \"c\", \"r\", \"s\", \"i\", \"d\", \"m\", \"p\", \"g\", \"w\", \",\", \"v\", \"]\", \"?\", \"j\", \"z\", \"!\", \"-\", \"q\", \"[\", \"x\", \"3\", \"6\", \"%\", \"1\", \"5\", \"0\", \"2\", \"\\\"\", \".\", \"b\", \"k\", \"'\", \"f\", \"y\", \"u\", \"l\", \"c\"], \"Freq\": [429.0, 372.0, 305.0, 320.0, 305.0, 296.0, 291.0, 127.0, 128.0, 270.0, 119.0, 111.0, 103.0, 100.0, 209.0, 200.0, 192.0, 67.0, 62.0, 50.0, 29.0, 31.0, 61.0, 24.0, 54.0, 19.0, 44.0, 15.0, 12.0, 11.0, 319.6055256784402, 305.2138481954278, 296.13286504804915, 290.86944074658135, 270.02772010017287, 208.8338575713403, 200.2205388955039, 191.96416269356817, 60.82143055776331, 54.123513474086295, 43.501474336261985, 0.3602080192866139, 0.3602079865010011, 0.35396996632149563, 0.3539432788327239, 0.35393636106843546, 0.3667985831599298, 0.36679255060718535, 0.35395636029220784, 0.35678864380572894, 0.3711053340352788, 0.3569455557483103, 0.37774920731491257, 0.5589519448052223, 0.38309493425804275, 0.49056850060350404, 0.38784311062334464, 0.5231394003672568, 0.3574096033110548, 0.35679287314977265, 0.36332153778623244, 0.3626779562081149, 0.3613393852111009, 0.36003674724565177, 0.3588124341090423, 0.3581646559724938, 0.35815655792614665, 429.3030330092603, 304.4872750014253, 127.88146186514409, 110.539266657011, 99.93990276578008, 30.40882825144979, 0.37575114547339883, 0.3627984816382774, 0.36277702091959974, 0.3562877671169653, 0.356156600243353, 0.3560004337428393, 0.3589647076853341, 0.35895366888904, 0.35294736242427277, 0.3580204360635171, 0.35300875761189676, 0.35908447862512516, 0.4124412147877443, 0.3617186276243303, 0.3638985950901289, 0.39188184629454564, 0.4108814978054829, 0.35361481999549116, 0.355431416260926, 0.35354251587976476, 0.3582255628722999, 0.3591077899655345, 0.3557680021467525, 0.3532249556840216, 0.35688814776717304, 0.35615981448109746, 0.3555484924357394, 0.35535407975277145, 0.3549831112631936, 371.81628126336557, 127.10513158933124, 118.9216788877301, 102.47045314923531, 66.95680603293147, 61.89138510655138, 49.516178018850546, 28.89612336621041, 23.13705932024888, 18.854206749156916, 15.008859710341703, 10.62703415557569, 11.086120635533687, 3.9111137485194782, 1.881246912587765, 1.7940494667490554, 1.1846670501424206, 0.3209369977316429, 0.32092283356835494, 0.29312599043881743, 0.2930192235945376, 0.2929165929239909, 0.2963815460032786, 0.29636384079916867, 0.29066999594063303, 0.2911869283873528, 0.29240394543423226, 0.2939360258443323, 0.2944695624992762, 0.29159367197555286, 0.29243870119624976, 0.29324329113562664, 0.29276792872275836, 0.29243986170542674], \"Total\": [429.0, 372.0, 305.0, 320.0, 305.0, 296.0, 291.0, 127.0, 128.0, 270.0, 119.0, 111.0, 103.0, 100.0, 209.0, 200.0, 192.0, 67.0, 62.0, 50.0, 29.0, 31.0, 61.0, 24.0, 54.0, 19.0, 44.0, 15.0, 12.0, 11.0, 320.25215400932314, 305.8609354241645, 296.77861016466454, 291.5171185180953, 270.67388056503756, 209.48184592548145, 200.86946663870773, 192.61429413247097, 61.475007910228115, 54.775675062802925, 44.14930969795714, 1.0193665862094923, 1.0193703089384472, 1.0030963905031525, 1.0031191026706145, 1.0031407211093917, 1.0466861244136187, 1.0466832172278684, 1.0203775017062395, 1.8944030563724223, 2.5231752368478513, 2.591201225947972, 4.647947434459516, 12.057513795126654, 11.371847717458062, 19.736657096054966, 15.760601416055177, 24.07108021842162, 29.607147789516958, 31.056808052986916, 62.61047464648437, 111.19438331441536, 119.63798862465455, 103.1850266507693, 100.59030887186466, 372.52831385243917, 305.13692893882194, 429.9499320781499, 305.13692893882194, 128.52899744194195, 111.19438331441536, 100.59030887186466, 31.056808052986916, 1.0203775017062395, 1.0193703089384472, 1.0193665862094923, 1.0031407211093917, 1.0031191026706145, 1.0030963905031525, 1.0466861244136187, 1.0466832172278684, 1.8944030563724223, 2.5231752368478513, 2.591201225947972, 4.647947434459516, 12.057513795126654, 11.371847717458062, 15.760601416055177, 19.736657096054966, 24.07108021842162, 29.607147789516958, 44.14930969795714, 50.22702912556851, 54.775675062802925, 61.475007910228115, 62.61047464648437, 67.66657351082637, 192.61429413247097, 200.86946663870773, 209.48184592548145, 291.5171185180953, 305.8609354241645, 372.52831385243917, 127.81571352133739, 119.63798862465455, 103.1850266507693, 67.66657351082637, 62.61047464648437, 50.22702912556851, 29.607147789516958, 24.07108021842162, 19.736657096054966, 15.760601416055177, 11.371847717458062, 12.057513795126654, 4.647947434459516, 2.591201225947972, 2.5231752368478513, 1.8944030563724223, 1.0466832172278684, 1.0466861244136187, 1.0030963905031525, 1.0031191026706145, 1.0031407211093917, 1.0193665862094923, 1.0193703089384472, 1.0203775017062395, 31.056808052986916, 44.14930969795714, 54.775675062802925, 61.475007910228115, 100.59030887186466, 111.19438331441536, 192.61429413247097, 200.86946663870773, 209.48184592548145], \"Category\": [\"Default\", \"Default\", \"Default\", \"Default\", \"Default\", \"Default\", \"Default\", \"Default\", \"Default\", \"Default\", \"Default\", \"Default\", \"Default\", \"Default\", \"Default\", \"Default\", \"Default\", \"Default\", \"Default\", \"Default\", \"Default\", \"Default\", \"Default\", \"Default\", \"Default\", \"Default\", \"Default\", \"Default\", \"Default\", \"Default\", \"Topic1\", \"Topic1\", \"Topic1\", \"Topic1\", \"Topic1\", \"Topic1\", \"Topic1\", \"Topic1\", \"Topic1\", \"Topic1\", \"Topic1\", \"Topic1\", \"Topic1\", \"Topic1\", \"Topic1\", \"Topic1\", \"Topic1\", \"Topic1\", \"Topic1\", \"Topic1\", \"Topic1\", \"Topic1\", \"Topic1\", \"Topic1\", \"Topic1\", \"Topic1\", \"Topic1\", \"Topic1\", \"Topic1\", \"Topic1\", \"Topic1\", \"Topic1\", \"Topic1\", \"Topic1\", \"Topic1\", \"Topic1\", \"Topic1\", \"Topic2\", \"Topic2\", \"Topic2\", \"Topic2\", \"Topic2\", \"Topic2\", \"Topic2\", \"Topic2\", \"Topic2\", \"Topic2\", \"Topic2\", \"Topic2\", \"Topic2\", \"Topic2\", \"Topic2\", \"Topic2\", \"Topic2\", \"Topic2\", \"Topic2\", \"Topic2\", \"Topic2\", \"Topic2\", \"Topic2\", \"Topic2\", \"Topic2\", \"Topic2\", \"Topic2\", \"Topic2\", \"Topic2\", \"Topic2\", \"Topic2\", \"Topic2\", \"Topic2\", \"Topic2\", \"Topic2\", \"Topic3\", \"Topic3\", \"Topic3\", \"Topic3\", \"Topic3\", \"Topic3\", \"Topic3\", \"Topic3\", \"Topic3\", \"Topic3\", \"Topic3\", \"Topic3\", \"Topic3\", \"Topic3\", \"Topic3\", \"Topic3\", \"Topic3\", \"Topic3\", \"Topic3\", \"Topic3\", \"Topic3\", \"Topic3\", \"Topic3\", \"Topic3\", \"Topic3\", \"Topic3\", \"Topic3\", \"Topic3\", \"Topic3\", \"Topic3\", \"Topic3\", \"Topic3\", \"Topic3\", \"Topic3\"], \"logprob\": [30.0, 29.0, 28.0, 27.0, 26.0, 25.0, 24.0, 23.0, 22.0, 21.0, 20.0, 19.0, 18.0, 17.0, 16.0, 15.0, 14.0, 13.0, 12.0, 11.0, 10.0, 9.0, 8.0, 7.0, 6.0, 5.0, 4.0, 3.0, 2.0, 1.0, -1.9529, -1.999, -2.0292, -2.0471, -2.1215, -2.3785, -2.4206, -2.4627, -3.6121, -3.7288, -3.9472, -8.7411, -8.7411, -8.7586, -8.7586, -8.7587, -8.723, -8.723, -8.7586, -8.7506, -8.7113, -8.7502, -8.6935, -8.3017, -8.6795, -8.4322, -8.6672, -8.3679, -8.7489, -8.7506, -8.7325, -8.7343, -8.738, -8.7416, -8.745, -8.7468, -8.7468, -0.9549, -1.2985, -2.166, -2.3117, -2.4125, -3.6024, -7.9959, -8.031, -8.0311, -8.0491, -8.0495, -8.0499, -8.0416, -8.0417, -8.0585, -8.0443, -8.0584, -8.0413, -7.9028, -8.034, -8.028, -7.9539, -7.9066, -8.0567, -8.0515, -8.0569, -8.0437, -8.0412, -8.0506, -8.0578, -8.0474, -8.0495, -8.0512, -8.0518, -8.0528, -1.0115, -2.0849, -2.1515, -2.3004, -2.7259, -2.8046, -3.0276, -3.5662, -3.7885, -3.9932, -4.2213, -4.5665, -4.5242, -5.5661, -6.298, -6.3455, -6.7605, -8.0664, -8.0665, -8.1571, -8.1575, -8.1578, -8.146, -8.1461, -8.1655, -8.1637, -8.1596, -8.1543, -8.1525, -8.1623, -8.1594, -8.1567, -8.1583, -8.1594], \"loglift\": [30.0, 29.0, 28.0, 27.0, 26.0, 25.0, 24.0, 23.0, 22.0, 21.0, 20.0, 19.0, 18.0, 17.0, 16.0, 15.0, 14.0, 13.0, 12.0, 11.0, 10.0, 9.0, 8.0, 7.0, 6.0, 5.0, 4.0, 3.0, 2.0, 1.0, 0.6653, 0.6652, 0.6651, 0.6651, 0.6649, 0.6642, 0.6641, 0.6639, 0.6566, 0.6553, 0.6525, -0.373, -0.373, -0.3743, -0.3744, -0.3745, -0.3813, -0.3813, -0.3915, -1.0022, -1.2495, -1.315, -1.8427, -2.4041, -2.7233, -3.0274, -3.0374, -3.1616, -3.7496, -3.7991, -4.4821, -5.0582, -5.1351, -4.9908, -4.9687, -6.2798, -6.0803, 1.3687, 1.3681, 1.3652, 1.3643, 1.3637, 1.3491, 0.3712, 0.3371, 0.3371, 0.335, 0.3347, 0.3343, 0.3, 0.3, -0.3101, -0.5825, -0.6232, -1.1904, -2.0051, -2.0778, -2.3982, -2.5491, -2.7003, -3.0574, -3.4518, -3.5861, -3.6596, -3.7726, -3.8002, -3.885, -4.9208, -4.9648, -5.0085, -5.3395, -5.3886, 1.4555, 1.4518, 1.4514, 1.4504, 1.4468, 1.4458, 1.4431, 1.4331, 1.4178, 1.4116, 1.4085, 1.3896, 1.3734, 1.2848, 1.1372, 1.1163, 0.9879, 0.2752, 0.2752, 0.2271, 0.2267, 0.2264, 0.2221, 0.222, 0.2016, -3.2122, -3.5598, -3.7703, -3.8838, -4.3861, -4.4834, -5.0301, -5.0737, -5.1168]}, \"token.table\": {\"Topic\": [1, 3, 1, 3, 3, 2, 3, 3, 1, 3, 1, 1, 1, 3, 2, 2, 3, 2, 3, 3, 1, 1, 3, 1, 2, 3, 3, 1, 1, 1, 1, 3, 3, 3, 2, 3], \"Freq\": [0.08293583710467534, 0.9122942081514288, 0.9922731541422204, 0.9954799411886192, 0.8605949306449371, 0.965971774974947, 0.9626756905959413, 0.7926520404894893, 0.041543627910587036, 0.9555034419435019, 0.9992126391464777, 0.9966180740088887, 0.9976998201283138, 0.9936180497775713, 0.9977905983760518, 0.9941315532431994, 0.9901491463769816, 0.9958842171613381, 0.9985818155753701, 0.9517403304622398, 0.985839059730189, 0.9956714843064148, 0.9946673407670189, 0.9975103598336462, 0.996274036896236, 0.9885155173261714, 0.7718427962954959, 0.9982261126868843, 0.9971852063325101, 0.9973764613149427, 0.9968107552181538, 0.9794932023228549, 0.9902496403368402, 0.5278707699695608, 0.9982518603132523, 0.9673010291118126], \"Term\": [\"!\", \"!\", \"'\", \",\", \"-\", \".\", \"?\", \"[\", \"]\", \"]\", \"a\", \"b\", \"c\", \"d\", \"e\", \"f\", \"g\", \"h\", \"i\", \"j\", \"k\", \"l\", \"m\", \"n\", \"o\", \"p\", \"q\", \"r\", \"s\", \"t\", \"u\", \"v\", \"w\", \"x\", \"y\", \"z\"]}, \"R\": 30, \"lambda.step\": 0.01, \"plot.opts\": {\"xlab\": \"PC1\", \"ylab\": \"PC2\"}, \"topic.order\": [1, 2, 3]};\n",
       "\n",
       "function LDAvis_load_lib(url, callback){\n",
       "  var s = document.createElement('script');\n",
       "  s.src = url;\n",
       "  s.async = true;\n",
       "  s.onreadystatechange = s.onload = callback;\n",
       "  s.onerror = function(){console.warn(\"failed to load library \" + url);};\n",
       "  document.getElementsByTagName(\"head\")[0].appendChild(s);\n",
       "}\n",
       "\n",
       "if(typeof(LDAvis) !== \"undefined\"){\n",
       "   // already loaded: just create the visualization\n",
       "   !function(LDAvis){\n",
       "       new LDAvis(\"#\" + \"ldavis_el926827376781578566201192410\", ldavis_el926827376781578566201192410_data);\n",
       "   }(LDAvis);\n",
       "}else if(typeof define === \"function\" && define.amd){\n",
       "   // require.js is available: use it to load d3/LDAvis\n",
       "   require.config({paths: {d3: \"https://d3js.org/d3.v5\"}});\n",
       "   require([\"d3\"], function(d3){\n",
       "      window.d3 = d3;\n",
       "      LDAvis_load_lib(\"https://cdn.jsdelivr.net/gh/bmabey/pyLDAvis@3.4.0/pyLDAvis/js/ldavis.v3.0.0.js\", function(){\n",
       "        new LDAvis(\"#\" + \"ldavis_el926827376781578566201192410\", ldavis_el926827376781578566201192410_data);\n",
       "      });\n",
       "    });\n",
       "}else{\n",
       "    // require.js not available: dynamically load d3 & LDAvis\n",
       "    LDAvis_load_lib(\"https://d3js.org/d3.v5.js\", function(){\n",
       "         LDAvis_load_lib(\"https://cdn.jsdelivr.net/gh/bmabey/pyLDAvis@3.4.0/pyLDAvis/js/ldavis.v3.0.0.js\", function(){\n",
       "                 new LDAvis(\"#\" + \"ldavis_el926827376781578566201192410\", ldavis_el926827376781578566201192410_data);\n",
       "            })\n",
       "         });\n",
       "}\n",
       "</script>"
      ],
      "text/plain": [
       "<IPython.core.display.HTML object>"
      ]
     },
     "execution_count": 43,
     "metadata": {},
     "output_type": "execute_result"
    }
   ],
   "source": [
    "# 輸出主題模型分析結果\n",
    "import pyLDAvis.gensim\n",
    "pyLDAvis.enable_notebook()\n",
    "vis = pyLDAvis.gensim.prepare(lda_model, corpus, dictionary)\n",
    "pyLDAvis.display(vis)"
   ]
  },
  {
   "cell_type": "code",
   "execution_count": null,
   "id": "938aea1a",
   "metadata": {},
   "outputs": [],
   "source": []
  }
 ],
 "metadata": {
  "kernelspec": {
   "display_name": "Python 3 (ipykernel)",
   "language": "python",
   "name": "python3"
  },
  "language_info": {
   "codemirror_mode": {
    "name": "ipython",
    "version": 3
   },
   "file_extension": ".py",
   "mimetype": "text/x-python",
   "name": "python",
   "nbconvert_exporter": "python",
   "pygments_lexer": "ipython3",
   "version": "3.9.13"
  }
 },
 "nbformat": 4,
 "nbformat_minor": 5
}
