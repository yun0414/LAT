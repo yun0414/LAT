{
 "cells": [
  {
   "cell_type": "code",
   "execution_count": 16,
   "id": "ecdfdc58",
   "metadata": {},
   "outputs": [],
   "source": [
    "import openai\n",
    "import pandas as pd"
   ]
  },
  {
   "cell_type": "code",
   "execution_count": 17,
   "id": "dd0778e3",
   "metadata": {},
   "outputs": [],
   "source": [
    "with open('01.txt', 'r') as fh:\n",
    "    tmp = fh.read()\n",
    "    itemlist = tmp.split(',')"
   ]
  },
  {
   "cell_type": "code",
   "execution_count": 18,
   "id": "f45a4e25",
   "metadata": {},
   "outputs": [],
   "source": [
    "itemlist = str(itemlist)"
   ]
  },
  {
   "cell_type": "code",
   "execution_count": 19,
   "id": "a1e1ee08",
   "metadata": {},
   "outputs": [],
   "source": [
    "keyfile = open(\"key.txt\", \"r\")\n",
    "key = keyfile.readline()\n",
    "openai.api_key = key"
   ]
  },
  {
   "cell_type": "code",
   "execution_count": 20,
   "id": "5669dde2",
   "metadata": {},
   "outputs": [],
   "source": [
    "data = [itemlist[0:3200], itemlist[3201:6400], \n",
    "        itemlist[6401:9600], itemlist[9601:12800]]"
   ]
  },
  {
   "cell_type": "code",
   "execution_count": 21,
   "id": "777e830e",
   "metadata": {},
   "outputs": [
    {
     "data": {
      "text/plain": [
       "\"['\\\\nBlockchain in education management: present and future applications \\\\nPreeti Bhaskar \\\\nUniversity of Technology and Applied Sciences', ' Ibra', ' Oman and ICFAI Business School', ' ICFAI University', ' Dehradun', ' India \\\\n\\\\nChandan Kumar Tiwari \\\\nSymbiosis Centre for Management Studies', ' Noida', ' India and Symbiosis International (Deemed University)', ' Pune', ' India', ' and \\\\n\\\\nAmit Joshi \\\\nICFAI Business School', ' ICFAI University', ' Dehradun', ' India \\\\nAbstract \\\\nPurpose   This paper aims to provide a systematic literature review on blockchain technology in education to offer a detailed understanding of the present scenario in terms of bene.ts', ' barriers', ' present blockchain technology application and future areas where blockchain technology can be implemented in the other .elds of education. \\\\nDesign/methodology/approach   A bibliometric analysis is conducted on for data in the publications', ' journals', ' authors and citations were collected', ' and examined by applying bibliometric measures. The data was collected from SCOPUS database on the topic  Blockchain Technology in Education . The following research questions guided this systematic literature review (SLR: How blockchain technology has been de.ned in educational settings? How were the technology examined (i.e. the methodology)? What were the results of using this technology in an education system? \\\\nFindings   The study identi.es the bene.ts', ' barriers and present application of blockchain technology in education. The analysis shows that blockchain technology in education is still a young discipline', ' but has a lot of potential to bene.ts the educational sector at large. \\\\nPractical implications   This research provides a groundwork for education institutions', ' the policymakers and researchers to explore other areas where blockchain technology can be implemented', ' though this research has also suggested some prospective uses of blockchain technology in different functions of an education system', ' more application can be brought into the education system to exploit the potential of blockchain technology. \\\\nOriginality/value   The paper discusses the application of blockchain technology in education with the help of bibliometric analysis. This is one of the .rst known studies to review the blockchain technology by identifying its bene.ts', ' barriers', ' present blockchain technology application. Based on the analysis', ' future application areas are also identi.ed. \\\\nKeywords Systematic review', ' Education', ' Blockchain technology', ' Blockchain application \\\\nPaper type Literature review \\\\n1. Introduction \\\\nBlockchain was .rst used to a peer-to-peer ledger for record-keeping of the transactions of Bitcoin cryptocurrency. A blockchain transaction in the public ledger contains a veri.able record and once the information entered', ' it cannot be altered or erased in the future. The \\\\nBlockchain in education management \\\\nReceived 4 July 2020 Revised 19 September 2020 Accepted 10 October 2020 \\\\n\\\\nInteractive Technology and Smart Education Vol. 18 No. 1', ' 2021 pp. 1-17   Emerald Publishing Limited 1741-5659 DOI 10.1108/ITSE-07-2020-0102 \\\\n\\\\nBlockchain tech\""
      ]
     },
     "execution_count": 21,
     "metadata": {},
     "output_type": "execute_result"
    }
   ],
   "source": [
    "data[0]"
   ]
  },
  {
   "cell_type": "code",
   "execution_count": 6,
   "id": "81459fef",
   "metadata": {},
   "outputs": [],
   "source": [
    "def chatgptfn(sub_list):\n",
    "    result = ''\n",
    "    response = openai.ChatCompletion.create(\n",
    "        model=\"gpt-3.5-turbo\",\n",
    "        messages=[\n",
    "            {\"role\": \"system\", \"content\": \"You are an assistant\"},\n",
    "            {\"role\": \"user\", \"content\": f\"{sub_list} :give me a summary\"}\n",
    "        ]\n",
    "    )\n",
    "    for choice in response.choices:\n",
    "        result += choice.message.content\n",
    "    return result"
   ]
  },
  {
   "cell_type": "code",
   "execution_count": 26,
   "id": "91131ea9",
   "metadata": {},
   "outputs": [],
   "source": [
    "data[0] = chatgptfn(data[0])"
   ]
  },
  {
   "cell_type": "code",
   "execution_count": 27,
   "id": "fd74b945",
   "metadata": {},
   "outputs": [
    {
     "data": {
      "text/plain": [
       "'The paper provides a literature review on blockchain technology in education, covering its definition, methodology, benefits, barriers, present applications, and future potential uses. The study shows that blockchain technology in education is a promising field that still has a lot of potential to benefit the educational sector. The research provides an opportunity for education institutions, policymakers, and researchers to explore other areas where blockchain technology can be implemented. The paper is based on a bibliometric analysis and is one of the first studies to review blockchain technology in education systematically.'"
      ]
     },
     "execution_count": 27,
     "metadata": {},
     "output_type": "execute_result"
    }
   ],
   "source": [
    "data[0]"
   ]
  },
  {
   "cell_type": "code",
   "execution_count": 29,
   "id": "7cc6bf9f",
   "metadata": {},
   "outputs": [],
   "source": [
    "data[1] = chatgptfn(data[1])"
   ]
  },
  {
   "cell_type": "code",
   "execution_count": null,
   "id": "62efa41c",
   "metadata": {},
   "outputs": [],
   "source": []
  },
  {
   "cell_type": "code",
   "execution_count": 30,
   "id": "0c9a6056",
   "metadata": {},
   "outputs": [],
   "source": [
    "data[2] = chatgptfn(data[2])\n",
    "data[3] = chatgptfn(data[3])"
   ]
  },
  {
   "cell_type": "code",
   "execution_count": 31,
   "id": "468990f4",
   "metadata": {},
   "outputs": [],
   "source": [
    "import gensim\n",
    "from gensim import corpora\n",
    "from pprint import pprint"
   ]
  },
  {
   "cell_type": "code",
   "execution_count": 32,
   "id": "3a2caf5a",
   "metadata": {},
   "outputs": [],
   "source": [
    "# 創建詞袋\n",
    "texts = [[word for word in document.lower().split()] for document in data]\n",
    "dictionary = corpora.Dictionary(texts)\n",
    "corpus = [dictionary.doc2bow(text) for text in texts]"
   ]
  },
  {
   "cell_type": "code",
   "execution_count": 33,
   "id": "e6defc89",
   "metadata": {},
   "outputs": [],
   "source": [
    "# 訓練 LDA 模型\n",
    "lda_model = gensim.models.ldamodel.LdaModel(corpus=corpus, id2word=dictionary, \n",
    "                                            num_topics=3, random_state=100, update_every=1, \n",
    "                                            chunksize=100, passes=10, alpha='auto', per_word_topics=True)"
   ]
  },
  {
   "cell_type": "code",
   "execution_count": 34,
   "id": "fa6286aa",
   "metadata": {},
   "outputs": [
    {
     "name": "stdout",
     "output_type": "stream",
     "text": [
      "Requirement already satisfied: pyLDAvis in c:\\users\\selin\\anaconda3\\lib\\site-packages (3.4.0)\n",
      "Requirement already satisfied: pandas>=1.3.4 in c:\\users\\selin\\anaconda3\\lib\\site-packages (from pyLDAvis) (1.4.4)\n",
      "Requirement already satisfied: scikit-learn>=1.0.0 in c:\\users\\selin\\anaconda3\\lib\\site-packages (from pyLDAvis) (1.0.2)\n",
      "Requirement already satisfied: numpy>=1.22.0 in c:\\users\\selin\\anaconda3\\lib\\site-packages (from pyLDAvis) (1.24.2)\n",
      "Requirement already satisfied: setuptools in c:\\users\\selin\\anaconda3\\lib\\site-packages (from pyLDAvis) (63.4.1)\n",
      "Requirement already satisfied: scipy in c:\\users\\selin\\anaconda3\\lib\\site-packages (from pyLDAvis) (1.9.1)\n",
      "Requirement already satisfied: joblib>=1.2.0 in c:\\users\\selin\\anaconda3\\lib\\site-packages (from pyLDAvis) (1.2.0)\n",
      "Requirement already satisfied: gensim in c:\\users\\selin\\anaconda3\\lib\\site-packages (from pyLDAvis) (4.1.2)\n",
      "Requirement already satisfied: numexpr in c:\\users\\selin\\anaconda3\\lib\\site-packages (from pyLDAvis) (2.8.3)\n",
      "Requirement already satisfied: jinja2 in c:\\users\\selin\\anaconda3\\lib\\site-packages (from pyLDAvis) (2.11.3)\n",
      "Requirement already satisfied: funcy in c:\\users\\selin\\anaconda3\\lib\\site-packages (from pyLDAvis) (2.0)\n",
      "Requirement already satisfied: python-dateutil>=2.8.1 in c:\\users\\selin\\anaconda3\\lib\\site-packages (from pandas>=1.3.4->pyLDAvis) (2.8.2)\n",
      "Requirement already satisfied: pytz>=2020.1 in c:\\users\\selin\\anaconda3\\lib\\site-packages (from pandas>=1.3.4->pyLDAvis) (2022.1)\n",
      "Requirement already satisfied: threadpoolctl>=2.0.0 in c:\\users\\selin\\anaconda3\\lib\\site-packages (from scikit-learn>=1.0.0->pyLDAvis) (2.2.0)\n",
      "Requirement already satisfied: smart-open>=1.8.1 in c:\\users\\selin\\anaconda3\\lib\\site-packages (from gensim->pyLDAvis) (5.2.1)\n",
      "Requirement already satisfied: MarkupSafe>=0.23 in c:\\users\\selin\\anaconda3\\lib\\site-packages (from jinja2->pyLDAvis) (2.0.1)\n",
      "Requirement already satisfied: packaging in c:\\users\\selin\\anaconda3\\lib\\site-packages (from numexpr->pyLDAvis) (21.3)\n",
      "Requirement already satisfied: six>=1.5 in c:\\users\\selin\\anaconda3\\lib\\site-packages (from python-dateutil>=2.8.1->pandas>=1.3.4->pyLDAvis) (1.16.0)\n",
      "Requirement already satisfied: pyparsing!=3.0.5,>=2.0.2 in c:\\users\\selin\\anaconda3\\lib\\site-packages (from packaging->numexpr->pyLDAvis) (3.0.9)\n"
     ]
    }
   ],
   "source": [
    "!pip install pyLDAvis"
   ]
  },
  {
   "cell_type": "code",
   "execution_count": 35,
   "id": "2c124a29",
   "metadata": {},
   "outputs": [
    {
     "name": "stderr",
     "output_type": "stream",
     "text": [
      "C:\\Users\\selin\\anaconda3\\lib\\site-packages\\pyLDAvis\\_prepare.py:243: FutureWarning: In a future version of pandas all arguments of DataFrame.drop except for the argument 'labels' will be keyword-only.\n",
      "  default_term_info = default_term_info.sort_values(\n"
     ]
    },
    {
     "data": {
      "text/html": [
       "\n",
       "<link rel=\"stylesheet\" type=\"text/css\" href=\"https://cdn.jsdelivr.net/gh/bmabey/pyLDAvis@3.4.0/pyLDAvis/js/ldavis.v1.0.0.css\">\n",
       "\n",
       "\n",
       "<div id=\"ldavis_el940819919054981605542209200\" style=\"background-color:white;\"></div>\n",
       "<script type=\"text/javascript\">\n",
       "\n",
       "var ldavis_el940819919054981605542209200_data = {\"mdsDat\": {\"x\": [-0.08362495813119555, 0.06557706806172468, 0.018047890069470832], \"y\": [0.0, 0.0, 0.0], \"topics\": [1, 2, 3], \"cluster\": [1, 1, 1], \"Freq\": [90.8583927263964, 9.131640673031807, 0.009966600571794871]}, \"tinfo\": {\"Term\": [\"the\", \"blockchain\", \"of\", \"in\", \"and\", \"a\", \"technology\", \"education\", \"for\", \"to\", \"potential\", \"is\", \"review\", \"education,\", \"its\", \"literature\", \"an\", \"paper\", \"that\", \"on\", \"it\", \"has\", \"sector.\", \"systematic\", \"this\", \"study\", \"use\", \"still\", \"various\", \"as\", \"the\", \"blockchain\", \"a\", \"of\", \"education\", \"in\", \"for\", \"potential\", \"to\", \"education,\", \"technology\", \"and\", \"is\", \"paper\", \"an\", \"sector.\", \"it\", \"has\", \"that\", \"review\", \"on\", \"with\", \"benefits,\", \"research\", \"researchers\", \"policymakers,\", \"institutions,\", \"through\", \"higher\", \"system.\", \"literature\", \"its\", \"systematic\", \"this\", \"study\", \"use\", \"still\", \"articles,\", \"making\", \"relevant\", \"articles.\", \"related\", \"scopus\", \"lacks\", \"content\", \"selected\", \"searching\", \"unrelated\", \"uncertain.\", \"public\", \"passage\", \"knowledge,\", \"performing\", \"found\", \"examining\", \"describes\", \"database\", \"published\", \"excluding\", \"development\", \"early\", \"future\", \"impact\", \"analysis\", \"stages\", \"education.\", \"studies\", \"its\", \"literature\", \"relevant\", \"making\", \"articles.\", \"related\", \"scopus\", \"lacks\", \"uncertain.\", \"selected\", \"content\", \"searching\", \"knowledge,\", \"unrelated\", \"public\", \"passage\", \"found\", \"performing\", \"examining\", \"describes\", \"database\", \"published\", \"excluding\", \"development\", \"articles,\", \"security,\", \"third-party\", \"estimated\", \"offer\", \"2025.\", \"generations,\", \"industries.\", \"appealing\", \"the\", \"and\", \"potential\", \"in\", \"technology\", \"to\", \"it\", \"various\", \"for\", \"of\", \"blockchain\", \"as\", \"blockchain,\", \"trusted,\", \"globally\", \"credit\", \"decentralization,\", \"but\", \"gdp\", \"reach\", \"grading\", \"a\", \"its\", \"an\", \"education\", \"education,\", \"has\", \"is\", \"review\", \"such\", \"capabilities\", \"still\", \"literature\", \"option\", \"areas\", \"impact\", \"paper\"], \"Freq\": [26.0, 12.0, 14.0, 13.0, 12.0, 8.0, 8.0, 7.0, 7.0, 7.0, 5.0, 5.0, 6.0, 4.0, 5.0, 5.0, 3.0, 3.0, 3.0, 3.0, 2.0, 2.0, 2.0, 2.0, 2.0, 2.0, 2.0, 2.0, 2.0, 2.0, 26.477029580410733, 12.102254637404156, 8.80153353056702, 14.567610648917118, 7.132412769804172, 12.828371552491262, 7.062732283986356, 5.413080914635225, 7.036432103285235, 4.5625201077519355, 8.578319669715377, 11.74698061938101, 5.336891061118908, 3.709658598954825, 3.70527612004978, 2.8537895261074544, 2.848194335813002, 2.8489028564715837, 3.5526648833262793, 5.826530913793803, 3.5398624192164463, 1.9982140116790181, 1.997876170718922, 1.9973960285591392, 1.9975044959071524, 1.9970490657272684, 1.9967813802537313, 1.9964534904264806, 1.9963010722417343, 1.995880802731237, 4.80532609065372, 4.762454288425417, 2.6125581441262153, 2.603490837729844, 2.5593852608809446, 2.553807650921186, 2.5226435223375248, 0.8438805662899679, 0.4823327766336188, 0.4819362919161627, 0.48122773342084524, 0.48109514957141086, 0.4802772435714053, 0.4803369179718296, 0.4799098626257763, 0.4798727911546747, 0.47985878934005, 0.4798630232220913, 0.47970490272979377, 0.4797359400855452, 0.4797278390356552, 0.4795046767806606, 0.4792952829767136, 0.4791808348109836, 0.4789856095099307, 0.47860295991883, 0.47849741290668285, 0.4771049991175643, 0.4754170803645569, 0.4729687964021206, 0.37166000019126805, 0.3670937417409229, 0.36549270091389635, 0.3639537681360265, 0.3630248477486393, 0.36034200005358547, 0.3602164837867712, 0.4083808925247719, 0.3909707361815367, 0.00021474632729553823, 0.00021461844900544271, 0.00021479206438777042, 0.0002147411059170694, 0.0002148076739443079, 0.00021466136618944262, 0.00021479566659312523, 0.0002147212574017053, 0.00021470663026481004, 0.000214701936482075, 0.00021478551492348896, 0.0002146672425143396, 0.00021469915295975537, 0.00021466900723110432, 0.00021477558156932875, 0.00021466755179459733, 0.000214696005578309, 0.00021468105096819967, 0.00021468978358724162, 0.0002147713244175458, 0.00021474221568740598, 0.00021475036613184513, 0.00021485999688673424, 0.00021627404441805785, 0.00021618780980501862, 0.00021611876753571823, 0.000216098318652795, 0.0002160597313924034, 0.00021604051963051112, 0.0002159486452010073, 0.00021595517647233242, 0.00022835884301586332, 0.00022363589697180794, 0.00022081944540121664, 0.00022269022710139042, 0.0002215419422762434, 0.00022097947064516032, 0.00021884030645309737, 0.00021767089960564263, 0.00022028644635940014, 0.000221809269576665, 0.00022113534789505908, 0.00021727092746056512, 0.00021593108899814172, 0.00021591311435728038, 0.00021591300519954235, 0.00021588113114003925, 0.00021585105818321354, 0.00021584154326704909, 0.0002158259337105116, 0.0002158155637253993, 0.00021579973585338576, 0.00021924568190620708, 0.00021861711526475027, 0.00021798387303351475, 0.00021769440490523054, 0.0002175857383770273, 0.00021733756825962898, 0.0002173330564064573, 0.00021682390833039912, 0.00021682256205163015, 0.0002167891597837947, 0.0002167642900124815, 0.0002166578794108641, 0.00021659067463015378, 0.00021650118347793016, 0.0002163564948961789, 0.00021621595430847257], \"Total\": [26.0, 12.0, 14.0, 13.0, 12.0, 8.0, 8.0, 7.0, 7.0, 7.0, 5.0, 5.0, 6.0, 4.0, 5.0, 5.0, 3.0, 3.0, 3.0, 3.0, 2.0, 2.0, 2.0, 2.0, 2.0, 2.0, 2.0, 2.0, 2.0, 2.0, 26.75339034247326, 12.299752956394107, 8.945308897681517, 14.810230872839862, 7.257789626409516, 13.081512554075605, 7.216747268777213, 5.539080826623573, 7.2014208031958304, 4.687651732256271, 8.817293603789029, 12.096663811641674, 5.49783767456979, 3.83384484799933, 3.8303411090012562, 2.9778472137507555, 2.972859020874487, 2.9741250612437664, 3.7448252303578413, 6.146562385441183, 3.7375908488525917, 2.122090101949015, 2.121884760178207, 2.1213848691104014, 2.1215581839021453, 2.1211507689063542, 2.120968330857938, 2.1206203865250552, 2.1204873351317275, 2.120106176961222, 5.196513484714667, 5.171053798065453, 2.8412937338954296, 2.835994132119311, 2.8106649357474898, 2.8075070757243723, 2.7892681962266184, 1.1769707918246, 0.7949953031624494, 0.79534526055515, 0.7962143547888505, 0.7964561728173012, 0.7974409811002388, 0.7975574794284471, 0.7980575624916909, 0.7980867843387809, 0.7981309151358009, 0.7981715603479201, 0.7982081543898795, 0.7982957959576887, 0.7983466666872316, 0.798484390968623, 0.7989162297134229, 0.7989224434055825, 0.7992848165984073, 0.7998069588066503, 0.7999337380160051, 0.8016524823310945, 0.8039065306253127, 0.8071087568211708, 1.7951453203018901, 1.8015760620621966, 1.8028813504650867, 1.8060394925800516, 1.8067321733003618, 1.8108000953260823, 1.8114059876431217, 5.171053798065453, 5.196513484714667, 0.79534526055515, 0.7949953031624494, 0.7962143547888505, 0.7964561728173012, 0.7974409811002388, 0.7975574794284471, 0.7982081543898795, 0.7980867843387809, 0.7980575624916909, 0.7981309151358009, 0.798484390968623, 0.7981715603479201, 0.7982957959576887, 0.7983466666872316, 0.7989224434055825, 0.7989162297134229, 0.7992848165984073, 0.7998069588066503, 0.7999337380160051, 0.8016524823310945, 0.8039065306253127, 0.8071087568211708, 1.1769707918246, 1.2630677323380746, 1.2628607297399506, 1.2631600372936684, 1.263430711823978, 1.263414289269571, 1.2633415042021783, 1.26322969241745, 1.2635702868667869, 26.75339034247326, 12.096663811641674, 5.539080826623573, 13.081512554075605, 8.817293603789029, 7.2014208031958304, 2.972859020874487, 2.1170038901689314, 7.216747268777213, 14.810230872839862, 12.299752956394107, 2.1180195784015456, 1.2635003393767015, 1.2633848228406213, 1.263695191843359, 1.263776784209395, 1.263478979290042, 1.2636388941303098, 1.2636958520741768, 1.263701586623236, 1.263744484167327, 8.945308897681517, 5.171053798065453, 3.8303411090012562, 7.257789626409516, 4.687651732256271, 2.9741250612437664, 5.49783767456979, 6.146562385441183, 2.1183442786528537, 2.118658813652983, 2.7892681962266184, 5.196513484714667, 2.119000952373692, 2.119052054522165, 1.8028813504650867, 3.83384484799933], \"Category\": [\"Default\", \"Default\", \"Default\", \"Default\", \"Default\", \"Default\", \"Default\", \"Default\", \"Default\", \"Default\", \"Default\", \"Default\", \"Default\", \"Default\", \"Default\", \"Default\", \"Default\", \"Default\", \"Default\", \"Default\", \"Default\", \"Default\", \"Default\", \"Default\", \"Default\", \"Default\", \"Default\", \"Default\", \"Default\", \"Default\", \"Topic1\", \"Topic1\", \"Topic1\", \"Topic1\", \"Topic1\", \"Topic1\", \"Topic1\", \"Topic1\", \"Topic1\", \"Topic1\", \"Topic1\", \"Topic1\", \"Topic1\", \"Topic1\", \"Topic1\", \"Topic1\", \"Topic1\", \"Topic1\", \"Topic1\", \"Topic1\", \"Topic1\", \"Topic1\", \"Topic1\", \"Topic1\", \"Topic1\", \"Topic1\", \"Topic1\", \"Topic1\", \"Topic1\", \"Topic1\", \"Topic1\", \"Topic1\", \"Topic1\", \"Topic1\", \"Topic1\", \"Topic1\", \"Topic1\", \"Topic2\", \"Topic2\", \"Topic2\", \"Topic2\", \"Topic2\", \"Topic2\", \"Topic2\", \"Topic2\", \"Topic2\", \"Topic2\", \"Topic2\", \"Topic2\", \"Topic2\", \"Topic2\", \"Topic2\", \"Topic2\", \"Topic2\", \"Topic2\", \"Topic2\", \"Topic2\", \"Topic2\", \"Topic2\", \"Topic2\", \"Topic2\", \"Topic2\", \"Topic2\", \"Topic2\", \"Topic2\", \"Topic2\", \"Topic2\", \"Topic2\", \"Topic2\", \"Topic3\", \"Topic3\", \"Topic3\", \"Topic3\", \"Topic3\", \"Topic3\", \"Topic3\", \"Topic3\", \"Topic3\", \"Topic3\", \"Topic3\", \"Topic3\", \"Topic3\", \"Topic3\", \"Topic3\", \"Topic3\", \"Topic3\", \"Topic3\", \"Topic3\", \"Topic3\", \"Topic3\", \"Topic3\", \"Topic3\", \"Topic3\", \"Topic3\", \"Topic3\", \"Topic3\", \"Topic3\", \"Topic3\", \"Topic3\", \"Topic3\", \"Topic3\", \"Topic3\", \"Topic3\", \"Topic3\", \"Topic3\", \"Topic3\", \"Topic3\", \"Topic3\", \"Topic3\", \"Topic3\", \"Topic3\", \"Topic3\", \"Topic3\", \"Topic3\", \"Topic3\", \"Topic3\", \"Topic3\", \"Topic3\", \"Topic3\", \"Topic3\", \"Topic3\", \"Topic3\", \"Topic3\", \"Topic3\", \"Topic3\", \"Topic3\", \"Topic3\", \"Topic3\", \"Topic3\", \"Topic3\", \"Topic3\", \"Topic3\", \"Topic3\", \"Topic3\", \"Topic3\", \"Topic3\", \"Topic3\"], \"logprob\": [30.0, 29.0, 28.0, 27.0, 26.0, 25.0, 24.0, 23.0, 22.0, 21.0, 20.0, 19.0, 18.0, 17.0, 16.0, 15.0, 14.0, 13.0, 12.0, 11.0, 10.0, 9.0, 8.0, 7.0, 6.0, 5.0, 4.0, 3.0, 2.0, 1.0, -2.5991, -3.382, -3.7005, -3.1966, -3.9107, -3.3237, -3.9206, -4.1866, -3.9243, -4.3575, -3.7262, -3.4118, -4.2008, -4.5645, -4.5656, -4.8267, -4.8287, -4.8285, -4.6077, -4.113, -4.6113, -5.1831, -5.1833, -5.1835, -5.1835, -5.1837, -5.1839, -5.184, -5.1841, -5.1843, -4.3057, -4.3146, -4.9151, -4.9185, -4.9356, -4.9378, -4.9501, -3.7476, -4.307, -4.3078, -4.3093, -4.3095, -4.3112, -4.3111, -4.312, -4.3121, -4.3121, -4.3121, -4.3124, -4.3124, -4.3124, -4.3128, -4.3133, -4.3135, -4.3139, -4.3147, -4.3149, -4.3179, -4.3214, -4.3266, -4.5676, -4.58, -4.5843, -4.5886, -4.5911, -4.5985, -4.5989, -4.4734, -4.517, -5.2036, -5.2042, -5.2034, -5.2037, -5.2033, -5.204, -5.2034, -5.2037, -5.2038, -5.2038, -5.2034, -5.204, -5.2038, -5.204, -5.2035, -5.204, -5.2039, -5.2039, -5.2039, -5.2035, -5.2036, -5.2036, -5.2031, -5.1965, -5.1969, -5.1973, -5.1974, -5.1975, -5.1976, -5.198, -5.198, -5.1422, -5.1631, -5.1757, -5.1673, -5.1725, -5.175, -5.1847, -5.1901, -5.1782, -5.1713, -5.1743, -5.1919, -5.1981, -5.1982, -5.1982, -5.1984, -5.1985, -5.1985, -5.1986, -5.1987, -5.1987, -5.1829, -5.1858, -5.1887, -5.19, -5.1905, -5.1916, -5.1917, -5.194, -5.194, -5.1942, -5.1943, -5.1948, -5.1951, -5.1955, -5.1962, -5.1968], \"loglift\": [30.0, 29.0, 28.0, 27.0, 26.0, 25.0, 24.0, 23.0, 22.0, 21.0, 20.0, 19.0, 18.0, 17.0, 16.0, 15.0, 14.0, 13.0, 12.0, 11.0, 10.0, 9.0, 8.0, 7.0, 6.0, 5.0, 4.0, 3.0, 2.0, 1.0, 0.0855, 0.0797, 0.0797, 0.0794, 0.0784, 0.0763, 0.0743, 0.0729, 0.0727, 0.0688, 0.0684, 0.0665, 0.0662, 0.0629, 0.0627, 0.0533, 0.053, 0.0529, 0.0432, 0.0424, 0.0415, 0.0357, 0.0356, 0.0356, 0.0356, 0.0356, 0.0355, 0.0355, 0.0355, 0.0355, 0.0176, 0.0136, 0.0119, 0.0103, 0.0022, 0.0012, -0.0046, 2.0607, 1.8937, 1.8925, 1.8899, 1.8893, 1.8864, 1.8864, 1.8848, 1.8847, 1.8846, 1.8846, 1.8842, 1.8842, 1.8841, 1.8835, 1.8825, 1.8822, 1.8814, 1.8799, 1.8795, 1.8745, 1.8681, 1.859, 0.8186, 0.8026, 0.7975, 0.7916, 0.7886, 0.779, 0.7783, -0.1452, -0.1937, 0.9966, 0.9965, 0.9957, 0.9952, 0.9943, 0.9934, 0.9932, 0.9931, 0.993, 0.9929, 0.9929, 0.9927, 0.9927, 0.9925, 0.9923, 0.9918, 0.9914, 0.9907, 0.9906, 0.9888, 0.9859, 0.9819, 0.6052, 0.5412, 0.5409, 0.5404, 0.5401, 0.5399, 0.5399, 0.5395, 0.5393, -2.4576, -1.6847, -0.9163, -1.7672, -1.3779, -1.178, -0.303, 0.0312, -1.1833, -1.8953, -1.7126, 0.0288, 0.5392, 0.5393, 0.539, 0.5388, 0.5389, 0.5387, 0.5386, 0.5386, 0.5384, -1.4028, -0.8576, -0.5604, -1.2008, -0.7642, -0.3103, -0.9247, -1.0386, 0.0266, 0.0263, -0.2488, -0.8715, 0.0252, 0.0248, 0.1857, -0.5694]}, \"token.table\": {\"Topic\": [1, 1, 1, 1, 1, 1, 1, 2, 1, 1, 1, 1, 1, 1, 1, 1, 1, 1, 1, 1, 1, 1, 1, 1, 1, 1, 1, 1, 1, 1, 1, 1, 1, 1, 1, 1, 1, 1, 1, 1, 1, 1, 1, 1, 1, 1, 1, 1, 1, 1, 1, 1, 1, 1, 1, 1, 1, 1, 1, 1, 1, 1, 1, 1, 1, 1, 1, 1], \"Freq\": [0.7915060075647387, 1.0061139422846155, 1.0442934156960715, 0.5536977480882388, 0.9920090519876524, 0.791408289980964, 0.943818249170377, 0.8496387564977285, 0.944278334532387, 0.9425582564776183, 0.9756293514628456, 0.7914521024136099, 0.791365321726855, 0.9439934297639967, 0.7912789762359728, 0.7914654825218439, 0.5570579655533568, 0.9644809729023454, 1.0666321402663992, 0.5522420738662064, 0.7916653238512111, 0.9699660718735496, 0.5550695421959245, 0.7913296529055172, 0.791551608708935, 0.7913300663440007, 0.7912992005333209, 1.0087000170549025, 0.9431794129889285, 0.5546676711376661, 0.9937688739173965, 0.7916216710250803, 0.9429655176374058, 0.9094484588236327, 1.0091295883642437, 0.9669209014747736, 0.9621835899603256, 1.0128133807493949, 0.7914957192676828, 1.0702080997517334, 0.9438410104344748, 1.0433390391599642, 0.9428844141197853, 0.9026768441376621, 0.7913260619321698, 0.942780364431795, 0.9427033466135888, 0.9761553895900686, 1.0074391950490105, 0.7917231787315888, 0.5534854666219275, 1.0755509291141183, 0.5520573559001712, 1.0673630861667105, 0.9441335953530113, 0.9433489802225982, 1.0558570429418372, 1.020721369211575, 1.0681406351285918, 0.9718394441665515, 0.7918529545264432, 1.0578301153811376, 0.9431202362801439, 0.972030407790301, 0.7915244681755625, 1.0685636470661297, 0.9447313768707365, 0.942467050839697], \"Term\": [\"2025.\", \"a\", \"an\", \"analysis\", \"and\", \"appealing\", \"areas\", \"articles,\", \"as\", \"benefits,\", \"blockchain\", \"blockchain,\", \"but\", \"capabilities\", \"credit\", \"decentralization,\", \"early\", \"education\", \"education,\", \"education.\", \"estimated\", \"for\", \"future\", \"gdp\", \"generations,\", \"globally\", \"grading\", \"has\", \"higher\", \"impact\", \"in\", \"industries.\", \"institutions,\", \"is\", \"it\", \"its\", \"literature\", \"of\", \"offer\", \"on\", \"option\", \"paper\", \"policymakers,\", \"potential\", \"reach\", \"research\", \"researchers\", \"review\", \"sector.\", \"security,\", \"stages\", \"still\", \"studies\", \"study\", \"such\", \"system.\", \"systematic\", \"technology\", \"that\", \"the\", \"third-party\", \"this\", \"through\", \"to\", \"trusted,\", \"use\", \"various\", \"with\"]}, \"R\": 30, \"lambda.step\": 0.01, \"plot.opts\": {\"xlab\": \"PC1\", \"ylab\": \"PC2\"}, \"topic.order\": [2, 1, 3]};\n",
       "\n",
       "function LDAvis_load_lib(url, callback){\n",
       "  var s = document.createElement('script');\n",
       "  s.src = url;\n",
       "  s.async = true;\n",
       "  s.onreadystatechange = s.onload = callback;\n",
       "  s.onerror = function(){console.warn(\"failed to load library \" + url);};\n",
       "  document.getElementsByTagName(\"head\")[0].appendChild(s);\n",
       "}\n",
       "\n",
       "if(typeof(LDAvis) !== \"undefined\"){\n",
       "   // already loaded: just create the visualization\n",
       "   !function(LDAvis){\n",
       "       new LDAvis(\"#\" + \"ldavis_el940819919054981605542209200\", ldavis_el940819919054981605542209200_data);\n",
       "   }(LDAvis);\n",
       "}else if(typeof define === \"function\" && define.amd){\n",
       "   // require.js is available: use it to load d3/LDAvis\n",
       "   require.config({paths: {d3: \"https://d3js.org/d3.v5\"}});\n",
       "   require([\"d3\"], function(d3){\n",
       "      window.d3 = d3;\n",
       "      LDAvis_load_lib(\"https://cdn.jsdelivr.net/gh/bmabey/pyLDAvis@3.4.0/pyLDAvis/js/ldavis.v3.0.0.js\", function(){\n",
       "        new LDAvis(\"#\" + \"ldavis_el940819919054981605542209200\", ldavis_el940819919054981605542209200_data);\n",
       "      });\n",
       "    });\n",
       "}else{\n",
       "    // require.js not available: dynamically load d3 & LDAvis\n",
       "    LDAvis_load_lib(\"https://d3js.org/d3.v5.js\", function(){\n",
       "         LDAvis_load_lib(\"https://cdn.jsdelivr.net/gh/bmabey/pyLDAvis@3.4.0/pyLDAvis/js/ldavis.v3.0.0.js\", function(){\n",
       "                 new LDAvis(\"#\" + \"ldavis_el940819919054981605542209200\", ldavis_el940819919054981605542209200_data);\n",
       "            })\n",
       "         });\n",
       "}\n",
       "</script>"
      ],
      "text/plain": [
       "<IPython.core.display.HTML object>"
      ]
     },
     "execution_count": 35,
     "metadata": {},
     "output_type": "execute_result"
    }
   ],
   "source": [
    "# 輸出主題模型分析結果 \n",
    "import pyLDAvis.gensim\n",
    "pyLDAvis.enable_notebook()\n",
    "vis = pyLDAvis.gensim.prepare(lda_model, corpus, dictionary)\n",
    "pyLDAvis.display(vis)"
   ]
  },
  {
   "cell_type": "code",
   "execution_count": null,
   "id": "fe94ac9e",
   "metadata": {},
   "outputs": [],
   "source": []
  }
 ],
 "metadata": {
  "kernelspec": {
   "display_name": "Python 3 (ipykernel)",
   "language": "python",
   "name": "python3"
  },
  "language_info": {
   "codemirror_mode": {
    "name": "ipython",
    "version": 3
   },
   "file_extension": ".py",
   "mimetype": "text/x-python",
   "name": "python",
   "nbconvert_exporter": "python",
   "pygments_lexer": "ipython3",
   "version": "3.9.13"
  }
 },
 "nbformat": 4,
 "nbformat_minor": 5
}
