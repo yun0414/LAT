{
 "cells": [
  {
   "cell_type": "code",
   "execution_count": null,
   "id": "2907da8d",
   "metadata": {},
   "outputs": [],
   "source": [
    "import requests\n",
    "\n",
    "def search_nearby_places(api_key, location, keyword):\n",
    "    url = \"https://maps.googleapis.com/maps/api/place/nearbysearch/json\"\n",
    "    params = {\n",
    "        \"key\": api_key,\n",
    "        \"location\": location,\n",
    "        \"radius\": \"1000\",\n",
    "        \"keyword\": keyword\n",
    "    }\n",
    "\n",
    "    response = requests.get(url, params=params)\n",
    "    data = response.json()\n",
    "\n",
    "    if data[\"status\"] == \"OK\":\n",
    "        results = data[\"results\"]\n",
    "        for place in results:\n",
    "            name = place[\"name\"]\n",
    "            address = place[\"vicinity\"]\n",
    "            print(f\"Name: {name}\\nAddress: {address}\\n\")\n",
    "\n",
    "api_key = \"YOUR_API_KEY\"\n",
    "location = \"25.013413,121.540475\"\n",
    "keyword = \"咖啡廳\"\n",
    "\n",
    "search_nearby_places(api_key, location, keyword)\n"
   ]
  }
 ],
 "metadata": {
  "kernelspec": {
   "display_name": "Python 3 (ipykernel)",
   "language": "python",
   "name": "python3"
  },
  "language_info": {
   "codemirror_mode": {
    "name": "ipython",
    "version": 3
   },
   "file_extension": ".py",
   "mimetype": "text/x-python",
   "name": "python",
   "nbconvert_exporter": "python",
   "pygments_lexer": "ipython3",
   "version": "3.9.13"
  }
 },
 "nbformat": 4,
 "nbformat_minor": 5
}
